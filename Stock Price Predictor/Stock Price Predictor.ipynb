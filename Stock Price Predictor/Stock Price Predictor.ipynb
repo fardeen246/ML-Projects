{
 "cells": [
  {
   "cell_type": "markdown",
   "metadata": {},
   "source": [
    "# Stock Market Prediction And Forecasting Using Stacked LSTM"
   ]
  },
  {
   "cell_type": "markdown",
   "metadata": {},
   "source": [
    "### 1) Data Collection"
   ]
  },
  {
   "cell_type": "code",
   "execution_count": 1,
   "metadata": {},
   "outputs": [
    {
     "name": "stderr",
     "output_type": "stream",
     "text": [
      "2024-08-08 17:16:09.923843: I external/local_xla/xla/tsl/cuda/cudart_stub.cc:32] Could not find cuda drivers on your machine, GPU will not be used.\n",
      "2024-08-08 17:16:09.926210: I external/local_xla/xla/tsl/cuda/cudart_stub.cc:32] Could not find cuda drivers on your machine, GPU will not be used.\n",
      "2024-08-08 17:16:09.933814: E external/local_xla/xla/stream_executor/cuda/cuda_fft.cc:485] Unable to register cuFFT factory: Attempting to register factory for plugin cuFFT when one has already been registered\n",
      "2024-08-08 17:16:09.945857: E external/local_xla/xla/stream_executor/cuda/cuda_dnn.cc:8454] Unable to register cuDNN factory: Attempting to register factory for plugin cuDNN when one has already been registered\n",
      "2024-08-08 17:16:09.949402: E external/local_xla/xla/stream_executor/cuda/cuda_blas.cc:1452] Unable to register cuBLAS factory: Attempting to register factory for plugin cuBLAS when one has already been registered\n",
      "2024-08-08 17:16:09.959318: I tensorflow/core/platform/cpu_feature_guard.cc:210] This TensorFlow binary is optimized to use available CPU instructions in performance-critical operations.\n",
      "To enable the following instructions: AVX2 FMA, in other operations, rebuild TensorFlow with the appropriate compiler flags.\n",
      "2024-08-08 17:16:10.619183: W tensorflow/compiler/tf2tensorrt/utils/py_utils.cc:38] TF-TRT Warning: Could not find TensorRT\n"
     ]
    }
   ],
   "source": [
    "import numpy as np\n",
    "import pandas as pd\n",
    "import yfinance as yf\n",
    "import tensorflow as tf\n",
    "import matplotlib.pyplot as plt"
   ]
  },
  {
   "cell_type": "code",
   "execution_count": 2,
   "metadata": {},
   "outputs": [
    {
     "name": "stderr",
     "output_type": "stream",
     "text": [
      "[*********************100%%**********************]  1 of 1 completed"
     ]
    },
    {
     "name": "stdout",
     "output_type": "stream",
     "text": [
      "                Open      High       Low     Close  Adj Close     Volume\n",
      "Date                                                                    \n",
      "1980-12-12  0.128348  0.128906  0.128348  0.128348   0.099058  469033600\n",
      "1980-12-15  0.122210  0.122210  0.121652  0.121652   0.093890  175884800\n",
      "1980-12-16  0.113281  0.113281  0.112723  0.112723   0.086999  105728000\n",
      "1980-12-17  0.115513  0.116071  0.115513  0.115513   0.089152   86441600\n",
      "1980-12-18  0.118862  0.119420  0.118862  0.118862   0.091737   73449600\n"
     ]
    },
    {
     "name": "stderr",
     "output_type": "stream",
     "text": [
      "\n"
     ]
    }
   ],
   "source": [
    "df = yf.download('AAPL')\n",
    "print(df.head())"
   ]
  },
  {
   "cell_type": "code",
   "execution_count": 3,
   "metadata": {},
   "outputs": [],
   "source": [
    "df.to_csv('AAPL.csv')"
   ]
  },
  {
   "cell_type": "code",
   "execution_count": 4,
   "metadata": {},
   "outputs": [],
   "source": [
    "df=pd.read_csv('AAPL.csv')\n",
    "df = df[6000:]"
   ]
  },
  {
   "cell_type": "code",
   "execution_count": 5,
   "metadata": {},
   "outputs": [
    {
     "data": {
      "text/html": [
       "<div>\n",
       "<style scoped>\n",
       "    .dataframe tbody tr th:only-of-type {\n",
       "        vertical-align: middle;\n",
       "    }\n",
       "\n",
       "    .dataframe tbody tr th {\n",
       "        vertical-align: top;\n",
       "    }\n",
       "\n",
       "    .dataframe thead th {\n",
       "        text-align: right;\n",
       "    }\n",
       "</style>\n",
       "<table border=\"1\" class=\"dataframe\">\n",
       "  <thead>\n",
       "    <tr style=\"text-align: right;\">\n",
       "      <th></th>\n",
       "      <th>Date</th>\n",
       "      <th>Open</th>\n",
       "      <th>High</th>\n",
       "      <th>Low</th>\n",
       "      <th>Close</th>\n",
       "      <th>Adj Close</th>\n",
       "      <th>Volume</th>\n",
       "    </tr>\n",
       "  </thead>\n",
       "  <tbody>\n",
       "    <tr>\n",
       "      <th>6000</th>\n",
       "      <td>2004-09-21</td>\n",
       "      <td>0.674107</td>\n",
       "      <td>0.694107</td>\n",
       "      <td>0.668929</td>\n",
       "      <td>0.678750</td>\n",
       "      <td>0.573851</td>\n",
       "      <td>386652000</td>\n",
       "    </tr>\n",
       "    <tr>\n",
       "      <th>6001</th>\n",
       "      <td>2004-09-22</td>\n",
       "      <td>0.680357</td>\n",
       "      <td>0.681071</td>\n",
       "      <td>0.657321</td>\n",
       "      <td>0.659286</td>\n",
       "      <td>0.557395</td>\n",
       "      <td>401688000</td>\n",
       "    </tr>\n",
       "    <tr>\n",
       "      <th>6002</th>\n",
       "      <td>2004-09-23</td>\n",
       "      <td>0.661429</td>\n",
       "      <td>0.669643</td>\n",
       "      <td>0.659464</td>\n",
       "      <td>0.665536</td>\n",
       "      <td>0.562679</td>\n",
       "      <td>397404000</td>\n",
       "    </tr>\n",
       "    <tr>\n",
       "      <th>6003</th>\n",
       "      <td>2004-09-24</td>\n",
       "      <td>0.668750</td>\n",
       "      <td>0.678571</td>\n",
       "      <td>0.663393</td>\n",
       "      <td>0.665893</td>\n",
       "      <td>0.562981</td>\n",
       "      <td>369488000</td>\n",
       "    </tr>\n",
       "    <tr>\n",
       "      <th>6004</th>\n",
       "      <td>2004-09-27</td>\n",
       "      <td>0.659821</td>\n",
       "      <td>0.678214</td>\n",
       "      <td>0.657679</td>\n",
       "      <td>0.670179</td>\n",
       "      <td>0.566605</td>\n",
       "      <td>397516000</td>\n",
       "    </tr>\n",
       "  </tbody>\n",
       "</table>\n",
       "</div>"
      ],
      "text/plain": [
       "            Date      Open      High       Low     Close  Adj Close     Volume\n",
       "6000  2004-09-21  0.674107  0.694107  0.668929  0.678750   0.573851  386652000\n",
       "6001  2004-09-22  0.680357  0.681071  0.657321  0.659286   0.557395  401688000\n",
       "6002  2004-09-23  0.661429  0.669643  0.659464  0.665536   0.562679  397404000\n",
       "6003  2004-09-24  0.668750  0.678571  0.663393  0.665893   0.562981  369488000\n",
       "6004  2004-09-27  0.659821  0.678214  0.657679  0.670179   0.566605  397516000"
      ]
     },
     "execution_count": 5,
     "metadata": {},
     "output_type": "execute_result"
    }
   ],
   "source": [
    "df.head()"
   ]
  },
  {
   "cell_type": "code",
   "execution_count": 6,
   "metadata": {},
   "outputs": [
    {
     "data": {
      "text/html": [
       "<div>\n",
       "<style scoped>\n",
       "    .dataframe tbody tr th:only-of-type {\n",
       "        vertical-align: middle;\n",
       "    }\n",
       "\n",
       "    .dataframe tbody tr th {\n",
       "        vertical-align: top;\n",
       "    }\n",
       "\n",
       "    .dataframe thead th {\n",
       "        text-align: right;\n",
       "    }\n",
       "</style>\n",
       "<table border=\"1\" class=\"dataframe\">\n",
       "  <thead>\n",
       "    <tr style=\"text-align: right;\">\n",
       "      <th></th>\n",
       "      <th>Date</th>\n",
       "      <th>Open</th>\n",
       "      <th>High</th>\n",
       "      <th>Low</th>\n",
       "      <th>Close</th>\n",
       "      <th>Adj Close</th>\n",
       "      <th>Volume</th>\n",
       "    </tr>\n",
       "  </thead>\n",
       "  <tbody>\n",
       "    <tr>\n",
       "      <th>10999</th>\n",
       "      <td>2024-08-01</td>\n",
       "      <td>224.369995</td>\n",
       "      <td>224.479996</td>\n",
       "      <td>217.020004</td>\n",
       "      <td>218.360001</td>\n",
       "      <td>218.360001</td>\n",
       "      <td>62501000</td>\n",
       "    </tr>\n",
       "    <tr>\n",
       "      <th>11000</th>\n",
       "      <td>2024-08-02</td>\n",
       "      <td>219.149994</td>\n",
       "      <td>225.600006</td>\n",
       "      <td>217.710007</td>\n",
       "      <td>219.860001</td>\n",
       "      <td>219.860001</td>\n",
       "      <td>105568600</td>\n",
       "    </tr>\n",
       "    <tr>\n",
       "      <th>11001</th>\n",
       "      <td>2024-08-05</td>\n",
       "      <td>199.089996</td>\n",
       "      <td>213.500000</td>\n",
       "      <td>196.000000</td>\n",
       "      <td>209.270004</td>\n",
       "      <td>209.270004</td>\n",
       "      <td>119548600</td>\n",
       "    </tr>\n",
       "    <tr>\n",
       "      <th>11002</th>\n",
       "      <td>2024-08-06</td>\n",
       "      <td>205.300003</td>\n",
       "      <td>209.990005</td>\n",
       "      <td>201.070007</td>\n",
       "      <td>207.229996</td>\n",
       "      <td>207.229996</td>\n",
       "      <td>69660500</td>\n",
       "    </tr>\n",
       "    <tr>\n",
       "      <th>11003</th>\n",
       "      <td>2024-08-07</td>\n",
       "      <td>206.899994</td>\n",
       "      <td>213.639999</td>\n",
       "      <td>206.389999</td>\n",
       "      <td>209.820007</td>\n",
       "      <td>209.820007</td>\n",
       "      <td>63402300</td>\n",
       "    </tr>\n",
       "  </tbody>\n",
       "</table>\n",
       "</div>"
      ],
      "text/plain": [
       "             Date        Open        High         Low       Close   Adj Close  \\\n",
       "10999  2024-08-01  224.369995  224.479996  217.020004  218.360001  218.360001   \n",
       "11000  2024-08-02  219.149994  225.600006  217.710007  219.860001  219.860001   \n",
       "11001  2024-08-05  199.089996  213.500000  196.000000  209.270004  209.270004   \n",
       "11002  2024-08-06  205.300003  209.990005  201.070007  207.229996  207.229996   \n",
       "11003  2024-08-07  206.899994  213.639999  206.389999  209.820007  209.820007   \n",
       "\n",
       "          Volume  \n",
       "10999   62501000  \n",
       "11000  105568600  \n",
       "11001  119548600  \n",
       "11002   69660500  \n",
       "11003   63402300  "
      ]
     },
     "execution_count": 6,
     "metadata": {},
     "output_type": "execute_result"
    }
   ],
   "source": [
    "df.tail()"
   ]
  },
  {
   "cell_type": "code",
   "execution_count": 7,
   "metadata": {},
   "outputs": [],
   "source": [
    "df1=df.reset_index()['Close']"
   ]
  },
  {
   "cell_type": "code",
   "execution_count": 8,
   "metadata": {},
   "outputs": [
    {
     "data": {
      "text/plain": [
       "0         0.678750\n",
       "1         0.659286\n",
       "2         0.665536\n",
       "3         0.665893\n",
       "4         0.670179\n",
       "           ...    \n",
       "4999    218.360001\n",
       "5000    219.860001\n",
       "5001    209.270004\n",
       "5002    207.229996\n",
       "5003    209.820007\n",
       "Name: Close, Length: 5004, dtype: float64"
      ]
     },
     "execution_count": 8,
     "metadata": {},
     "output_type": "execute_result"
    }
   ],
   "source": [
    "df1"
   ]
  },
  {
   "cell_type": "code",
   "execution_count": 9,
   "metadata": {},
   "outputs": [
    {
     "data": {
      "text/plain": [
       "[<matplotlib.lines.Line2D at 0x7fd2236e3c70>]"
      ]
     },
     "execution_count": 9,
     "metadata": {},
     "output_type": "execute_result"
    },
    {
     "data": {
      "image/png": "[encoded data removed]",
      "text/plain": [
       "<Figure size 640x480 with 1 Axes>"
      ]
     },
     "metadata": {},
     "output_type": "display_data"
    }
   ],
   "source": [
    "import matplotlib.pyplot as plt\n",
    "plt.plot(df1)"
   ]
  },
  {
   "cell_type": "markdown",
   "metadata": {},
   "source": [
    "# 2) Data Scaling"
   ]
  },
  {
   "cell_type": "code",
   "execution_count": 10,
   "metadata": {},
   "outputs": [
    {
     "data": {
      "text/plain": [
       "0         0.678750\n",
       "1         0.659286\n",
       "2         0.665536\n",
       "3         0.665893\n",
       "4         0.670179\n",
       "           ...    \n",
       "4999    218.360001\n",
       "5000    219.860001\n",
       "5001    209.270004\n",
       "5002    207.229996\n",
       "5003    209.820007\n",
       "Name: Close, Length: 5004, dtype: float64"
      ]
     },
     "execution_count": 10,
     "metadata": {},
     "output_type": "execute_result"
    }
   ],
   "source": [
    "df1"
   ]
  },
  {
   "cell_type": "code",
   "execution_count": 11,
   "metadata": {},
   "outputs": [],
   "source": [
    "from sklearn.preprocessing import MinMaxScaler \n",
    "scaler = MinMaxScaler(feature_range=(0,1)) # Scaling data to [0,1]\n",
    "df1 = scaler.fit_transform(np.array(df1).reshape(-1,1))\n",
    "# -1 --> Infer number of rows based on length of array"
   ]
  },
  {
   "cell_type": "code",
   "execution_count": 12,
   "metadata": {},
   "outputs": [
    {
     "name": "stdout",
     "output_type": "stream",
     "text": [
      "[[8.31222087e-05]\n",
      " [0.00000000e+00]\n",
      " [2.66909164e-05]\n",
      " ...\n",
      " [8.90886896e-01]\n",
      " [8.82174895e-01]\n",
      " [8.93235723e-01]]\n"
     ]
    }
   ],
   "source": [
    "print(df1)"
   ]
  },
  {
   "cell_type": "markdown",
   "metadata": {},
   "source": [
    "# 3) Split Training and Testing Data"
   ]
  },
  {
   "cell_type": "code",
   "execution_count": 13,
   "metadata": {},
   "outputs": [],
   "source": [
    "training_size=int(len(df1)*0.85)\n",
    "test_size=len(df1)-training_size\n",
    "train_data,test_data=df1[0:training_size,:],df1[training_size:len(df1),:1]"
   ]
  },
  {
   "cell_type": "code",
   "execution_count": 14,
   "metadata": {},
   "outputs": [
    {
     "data": {
      "text/plain": [
       "(4253, 751)"
      ]
     },
     "execution_count": 14,
     "metadata": {},
     "output_type": "execute_result"
    }
   ],
   "source": [
    "training_size,test_size"
   ]
  },
  {
   "cell_type": "code",
   "execution_count": 15,
   "metadata": {},
   "outputs": [],
   "source": [
    "import numpy\n",
    "# Convert an array of values into a dataset matrix\n",
    "def create_dataset(dataset, time_step=1):\n",
    "\tdataX, dataY = [], []\n",
    "\tfor i in range(len(dataset)-time_step-1):\n",
    "\t\ta = dataset[i:(i+time_step), 0]   ###i=0, 0,1,2,3-----99   100 \n",
    "\t\tdataX.append(a)\n",
    "\t\tdataY.append(dataset[i + time_step, 0])\n",
    "\treturn numpy.array(dataX), numpy.array(dataY)"
   ]
  },
  {
   "cell_type": "code",
   "execution_count": 16,
   "metadata": {},
   "outputs": [],
   "source": [
    "# reshape into X=t,t+1,t+2, ... , t+time_step-1 and Y=t+4\n",
    "time_step = 100\n",
    "X_train, y_train = create_dataset(train_data, time_step)\n",
    "X_test, ytest = create_dataset(test_data, time_step)"
   ]
  },
  {
   "cell_type": "code",
   "execution_count": 17,
   "metadata": {},
   "outputs": [
    {
     "name": "stdout",
     "output_type": "stream",
     "text": [
      "(4152, 100)\n",
      "(4152,)\n"
     ]
    },
    {
     "data": {
      "text/plain": [
       "(None, None)"
      ]
     },
     "execution_count": 17,
     "metadata": {},
     "output_type": "execute_result"
    }
   ],
   "source": [
    "print(X_train.shape), print(y_train.shape)"
   ]
  },
  {
   "cell_type": "code",
   "execution_count": 18,
   "metadata": {},
   "outputs": [
    {
     "name": "stdout",
     "output_type": "stream",
     "text": [
      "(650, 100)\n",
      "(650,)\n"
     ]
    },
    {
     "data": {
      "text/plain": [
       "(None, None)"
      ]
     },
     "execution_count": 18,
     "metadata": {},
     "output_type": "execute_result"
    }
   ],
   "source": [
    "print(X_test.shape), print(ytest.shape)"
   ]
  },
  {
   "cell_type": "markdown",
   "metadata": {},
   "source": [
    "# 4) Create LSTM Model"
   ]
  },
  {
   "cell_type": "code",
   "execution_count": 19,
   "metadata": {},
   "outputs": [],
   "source": [
    "# Reshape input to be [samples, time steps, features] which is required for LSTM\n",
    "# This step should always be done at the beginning of the LSTM Code\n",
    "X_train = X_train.reshape(X_train.shape[0], X_train.shape[1] , 1)\n",
    "X_test = X_test.reshape(X_test.shape[0], X_test.shape[1] , 1)"
   ]
  },
  {
   "cell_type": "code",
   "execution_count": 20,
   "metadata": {},
   "outputs": [],
   "source": [
    "from tensorflow.keras.models import Sequential\n",
    "from tensorflow.keras.layers import Dense\n",
    "from tensorflow.keras.layers import LSTM"
   ]
  },
  {
   "cell_type": "code",
   "execution_count": 21,
   "metadata": {},
   "outputs": [
    {
     "name": "stderr",
     "output_type": "stream",
     "text": [
      "2024-08-08 17:16:12.477030: E external/local_xla/xla/stream_executor/cuda/cuda_driver.cc:266] failed call to cuInit: CUDA_ERROR_UNKNOWN: unknown error\n",
      "2024-08-08 17:16:12.477053: I external/local_xla/xla/stream_executor/cuda/cuda_diagnostics.cc:135] retrieving CUDA diagnostic information for host: streetcad\n",
      "2024-08-08 17:16:12.477059: I external/local_xla/xla/stream_executor/cuda/cuda_diagnostics.cc:142] hostname: streetcad\n",
      "2024-08-08 17:16:12.477153: I external/local_xla/xla/stream_executor/cuda/cuda_diagnostics.cc:166] libcuda reported version is: 535.183.1\n",
      "2024-08-08 17:16:12.477173: I external/local_xla/xla/stream_executor/cuda/cuda_diagnostics.cc:170] kernel reported version is: 535.183.1\n",
      "2024-08-08 17:16:12.477178: I external/local_xla/xla/stream_executor/cuda/cuda_diagnostics.cc:249] kernel version seems to match DSO: 535.183.1\n",
      "/home/fardeen/.local/lib/python3.10/site-packages/keras/src/layers/rnn/rnn.py:204: UserWarning: Do not pass an `input_shape`/`input_dim` argument to a layer. When using Sequential models, prefer using an `Input(shape)` object as the first layer in the model instead.\n",
      "  super().__init__(**kwargs)\n"
     ]
    }
   ],
   "source": [
    "model=Sequential()\n",
    "\n",
    "# Layer 1\n",
    "model.add(LSTM(50,return_sequences=True,input_shape=(100,1))) # input shape should be same as [time_steps, features]\n",
    "\n",
    "# Layer 2\n",
    "model.add(LSTM(50,return_sequences=True))\n",
    "\n",
    "# Layer 3\n",
    "model.add(LSTM(50))\n",
    "\n",
    "# Layer 4\n",
    "model.add(Dense(1))\n",
    "\n",
    "# Adam Optimizer with MSE as performance metric\n",
    "model.compile(loss='mean_squared_error',optimizer='adam')"
   ]
  },
  {
   "cell_type": "code",
   "execution_count": 22,
   "metadata": {},
   "outputs": [
    {
     "data": {
      "text/html": [
       "<pre style=\"white-space:pre;overflow-x:auto;line-height:normal;font-family:Menlo,'DejaVu Sans Mono',consolas,'Courier New',monospace\"><span style=\"font-weight: bold\">Model: \"sequential\"</span>\n",
       "</pre>\n"
      ],
      "text/plain": [
       "\u001b[1mModel: \"sequential\"\u001b[0m\n"
      ]
     },
     "metadata": {},
     "output_type": "display_data"
    },
    {
     "data": {
      "text/html": [
       "<pre style=\"white-space:pre;overflow-x:auto;line-height:normal;font-family:Menlo,'DejaVu Sans Mono',consolas,'Courier New',monospace\">┏━━━━━━━━━━━━━━━━━━━━━━━━━━━━━━━━━┳━━━━━━━━━━━━━━━━━━━━━━━━┳━━━━━━━━━━━━━━━┓\n",
       "┃<span style=\"font-weight: bold\"> Layer (type)                    </span>┃<span style=\"font-weight: bold\"> Output Shape           </span>┃<span style=\"font-weight: bold\">       Param # </span>┃\n",
       "┡━━━━━━━━━━━━━━━━━━━━━━━━━━━━━━━━━╇━━━━━━━━━━━━━━━━━━━━━━━━╇━━━━━━━━━━━━━━━┩\n",
       "│ lstm (<span style=\"color: #0087ff; text-decoration-color: #0087ff\">LSTM</span>)                     │ (<span style=\"color: #00d7ff; text-decoration-color: #00d7ff\">None</span>, <span style=\"color: #00af00; text-decoration-color: #00af00\">100</span>, <span style=\"color: #00af00; text-decoration-color: #00af00\">50</span>)        │        <span style=\"color: #00af00; text-decoration-color: #00af00\">10,400</span> │\n",
       "├─────────────────────────────────┼────────────────────────┼───────────────┤\n",
       "│ lstm_1 (<span style=\"color: #0087ff; text-decoration-color: #0087ff\">LSTM</span>)                   │ (<span style=\"color: #00d7ff; text-decoration-color: #00d7ff\">None</span>, <span style=\"color: #00af00; text-decoration-color: #00af00\">100</span>, <span style=\"color: #00af00; text-decoration-color: #00af00\">50</span>)        │        <span style=\"color: #00af00; text-decoration-color: #00af00\">20,200</span> │\n",
       "├─────────────────────────────────┼────────────────────────┼───────────────┤\n",
       "│ lstm_2 (<span style=\"color: #0087ff; text-decoration-color: #0087ff\">LSTM</span>)                   │ (<span style=\"color: #00d7ff; text-decoration-color: #00d7ff\">None</span>, <span style=\"color: #00af00; text-decoration-color: #00af00\">50</span>)             │        <span style=\"color: #00af00; text-decoration-color: #00af00\">20,200</span> │\n",
       "├─────────────────────────────────┼────────────────────────┼───────────────┤\n",
       "│ dense (<span style=\"color: #0087ff; text-decoration-color: #0087ff\">Dense</span>)                   │ (<span style=\"color: #00d7ff; text-decoration-color: #00d7ff\">None</span>, <span style=\"color: #00af00; text-decoration-color: #00af00\">1</span>)              │            <span style=\"color: #00af00; text-decoration-color: #00af00\">51</span> │\n",
       "└─────────────────────────────────┴────────────────────────┴───────────────┘\n",
       "</pre>\n"
      ],
      "text/plain": [
       "┏━━━━━━━━━━━━━━━━━━━━━━━━━━━━━━━━━┳━━━━━━━━━━━━━━━━━━━━━━━━┳━━━━━━━━━━━━━━━┓\n",
       "┃\u001b[1m \u001b[0m\u001b[1mLayer (type)                   \u001b[0m\u001b[1m \u001b[0m┃\u001b[1m \u001b[0m\u001b[1mOutput Shape          \u001b[0m\u001b[1m \u001b[0m┃\u001b[1m \u001b[0m\u001b[1m      Param #\u001b[0m\u001b[1m \u001b[0m┃\n",
       "┡━━━━━━━━━━━━━━━━━━━━━━━━━━━━━━━━━╇━━━━━━━━━━━━━━━━━━━━━━━━╇━━━━━━━━━━━━━━━┩\n",
       "│ lstm (\u001b[38;5;33mLSTM\u001b[0m)                     │ (\u001b[38;5;45mNone\u001b[0m, \u001b[38;5;34m100\u001b[0m, \u001b[38;5;34m50\u001b[0m)        │        \u001b[38;5;34m10,400\u001b[0m │\n",
       "├─────────────────────────────────┼────────────────────────┼───────────────┤\n",
       "│ lstm_1 (\u001b[38;5;33mLSTM\u001b[0m)                   │ (\u001b[38;5;45mNone\u001b[0m, \u001b[38;5;34m100\u001b[0m, \u001b[38;5;34m50\u001b[0m)        │        \u001b[38;5;34m20,200\u001b[0m │\n",
       "├─────────────────────────────────┼────────────────────────┼───────────────┤\n",
       "│ lstm_2 (\u001b[38;5;33mLSTM\u001b[0m)                   │ (\u001b[38;5;45mNone\u001b[0m, \u001b[38;5;34m50\u001b[0m)             │        \u001b[38;5;34m20,200\u001b[0m │\n",
       "├─────────────────────────────────┼────────────────────────┼───────────────┤\n",
       "│ dense (\u001b[38;5;33mDense\u001b[0m)                   │ (\u001b[38;5;45mNone\u001b[0m, \u001b[38;5;34m1\u001b[0m)              │            \u001b[38;5;34m51\u001b[0m │\n",
       "└─────────────────────────────────┴────────────────────────┴───────────────┘\n"
      ]
     },
     "metadata": {},
     "output_type": "display_data"
    },
    {
     "data": {
      "text/html": [
       "<pre style=\"white-space:pre;overflow-x:auto;line-height:normal;font-family:Menlo,'DejaVu Sans Mono',consolas,'Courier New',monospace\"><span style=\"font-weight: bold\"> Total params: </span><span style=\"color: #00af00; text-decoration-color: #00af00\">50,851</span> (198.64 KB)\n",
       "</pre>\n"
      ],
      "text/plain": [
       "\u001b[1m Total params: \u001b[0m\u001b[38;5;34m50,851\u001b[0m (198.64 KB)\n"
      ]
     },
     "metadata": {},
     "output_type": "display_data"
    },
    {
     "data": {
      "text/html": [
       "<pre style=\"white-space:pre;overflow-x:auto;line-height:normal;font-family:Menlo,'DejaVu Sans Mono',consolas,'Courier New',monospace\"><span style=\"font-weight: bold\"> Trainable params: </span><span style=\"color: #00af00; text-decoration-color: #00af00\">50,851</span> (198.64 KB)\n",
       "</pre>\n"
      ],
      "text/plain": [
       "\u001b[1m Trainable params: \u001b[0m\u001b[38;5;34m50,851\u001b[0m (198.64 KB)\n"
      ]
     },
     "metadata": {},
     "output_type": "display_data"
    },
    {
     "data": {
      "text/html": [
       "<pre style=\"white-space:pre;overflow-x:auto;line-height:normal;font-family:Menlo,'DejaVu Sans Mono',consolas,'Courier New',monospace\"><span style=\"font-weight: bold\"> Non-trainable params: </span><span style=\"color: #00af00; text-decoration-color: #00af00\">0</span> (0.00 B)\n",
       "</pre>\n"
      ],
      "text/plain": [
       "\u001b[1m Non-trainable params: \u001b[0m\u001b[38;5;34m0\u001b[0m (0.00 B)\n"
      ]
     },
     "metadata": {},
     "output_type": "display_data"
    }
   ],
   "source": [
    "model.summary()"
   ]
  },
  {
   "cell_type": "code",
   "execution_count": 23,
   "metadata": {},
   "outputs": [
    {
     "name": "stdout",
     "output_type": "stream",
     "text": [
      "Epoch 1/100\n",
      "\u001b[1m65/65\u001b[0m \u001b[32m━━━━━━━━━━━━━━━━━━━━\u001b[0m\u001b[37m\u001b[0m \u001b[1m6s\u001b[0m 56ms/step - loss: 0.0049 - val_loss: 0.0014\n",
      "Epoch 2/100\n",
      "\u001b[1m65/65\u001b[0m \u001b[32m━━━━━━━━━━━━━━━━━━━━\u001b[0m\u001b[37m\u001b[0m \u001b[1m3s\u001b[0m 51ms/step - loss: 9.8584e-05 - val_loss: 0.0015\n",
      "Epoch 3/100\n",
      "\u001b[1m65/65\u001b[0m \u001b[32m━━━━━━━━━━━━━━━━━━━━\u001b[0m\u001b[37m\u001b[0m \u001b[1m3s\u001b[0m 50ms/step - loss: 8.4402e-05 - val_loss: 0.0016\n",
      "Epoch 4/100\n",
      "\u001b[1m65/65\u001b[0m \u001b[32m━━━━━━━━━━━━━━━━━━━━\u001b[0m\u001b[37m\u001b[0m \u001b[1m3s\u001b[0m 50ms/step - loss: 1.0159e-04 - val_loss: 0.0018\n",
      "Epoch 5/100\n",
      "\u001b[1m65/65\u001b[0m \u001b[32m━━━━━━━━━━━━━━━━━━━━\u001b[0m\u001b[37m\u001b[0m \u001b[1m3s\u001b[0m 49ms/step - loss: 1.0108e-04 - val_loss: 0.0020\n",
      "Epoch 6/100\n",
      "\u001b[1m65/65\u001b[0m \u001b[32m━━━━━━━━━━━━━━━━━━━━\u001b[0m\u001b[37m\u001b[0m \u001b[1m3s\u001b[0m 50ms/step - loss: 9.6998e-05 - val_loss: 9.7020e-04\n",
      "Epoch 7/100\n",
      "\u001b[1m65/65\u001b[0m \u001b[32m━━━━━━━━━━━━━━━━━━━━\u001b[0m\u001b[37m\u001b[0m \u001b[1m3s\u001b[0m 50ms/step - loss: 8.4900e-05 - val_loss: 0.0011\n",
      "Epoch 8/100\n",
      "\u001b[1m65/65\u001b[0m \u001b[32m━━━━━━━━━━━━━━━━━━━━\u001b[0m\u001b[37m\u001b[0m \u001b[1m9s\u001b[0m 132ms/step - loss: 8.0303e-05 - val_loss: 8.0664e-04\n",
      "Epoch 9/100\n",
      "\u001b[1m65/65\u001b[0m \u001b[32m━━━━━━━━━━━━━━━━━━━━\u001b[0m\u001b[37m\u001b[0m \u001b[1m4s\u001b[0m 69ms/step - loss: 8.0093e-05 - val_loss: 8.2204e-04\n",
      "Epoch 10/100\n",
      "\u001b[1m65/65\u001b[0m \u001b[32m━━━━━━━━━━━━━━━━━━━━\u001b[0m\u001b[37m\u001b[0m \u001b[1m5s\u001b[0m 74ms/step - loss: 6.8081e-05 - val_loss: 0.0016\n",
      "Epoch 11/100\n",
      "\u001b[1m65/65\u001b[0m \u001b[32m━━━━━━━━━━━━━━━━━━━━\u001b[0m\u001b[37m\u001b[0m \u001b[1m5s\u001b[0m 75ms/step - loss: 6.2458e-05 - val_loss: 0.0029\n",
      "Epoch 12/100\n",
      "\u001b[1m65/65\u001b[0m \u001b[32m━━━━━━━━━━━━━━━━━━━━\u001b[0m\u001b[37m\u001b[0m \u001b[1m5s\u001b[0m 75ms/step - loss: 5.8570e-05 - val_loss: 0.0019\n",
      "Epoch 13/100\n",
      "\u001b[1m65/65\u001b[0m \u001b[32m━━━━━━━━━━━━━━━━━━━━\u001b[0m\u001b[37m\u001b[0m \u001b[1m5s\u001b[0m 75ms/step - loss: 7.3050e-05 - val_loss: 0.0013\n",
      "Epoch 14/100\n",
      "\u001b[1m65/65\u001b[0m \u001b[32m━━━━━━━━━━━━━━━━━━━━\u001b[0m\u001b[37m\u001b[0m \u001b[1m5s\u001b[0m 74ms/step - loss: 5.7334e-05 - val_loss: 0.0015\n",
      "Epoch 15/100\n",
      "\u001b[1m65/65\u001b[0m \u001b[32m━━━━━━━━━━━━━━━━━━━━\u001b[0m\u001b[37m\u001b[0m \u001b[1m5s\u001b[0m 74ms/step - loss: 5.4195e-05 - val_loss: 6.3286e-04\n",
      "Epoch 16/100\n",
      "\u001b[1m65/65\u001b[0m \u001b[32m━━━━━━━━━━━━━━━━━━━━\u001b[0m\u001b[37m\u001b[0m \u001b[1m5s\u001b[0m 74ms/step - loss: 5.1262e-05 - val_loss: 6.1971e-04\n",
      "Epoch 17/100\n",
      "\u001b[1m65/65\u001b[0m \u001b[32m━━━━━━━━━━━━━━━━━━━━\u001b[0m\u001b[37m\u001b[0m \u001b[1m5s\u001b[0m 74ms/step - loss: 5.2650e-05 - val_loss: 7.1184e-04\n",
      "Epoch 18/100\n",
      "\u001b[1m65/65\u001b[0m \u001b[32m━━━━━━━━━━━━━━━━━━━━\u001b[0m\u001b[37m\u001b[0m \u001b[1m5s\u001b[0m 74ms/step - loss: 4.4725e-05 - val_loss: 5.0734e-04\n",
      "Epoch 19/100\n",
      "\u001b[1m65/65\u001b[0m \u001b[32m━━━━━━━━━━━━━━━━━━━━\u001b[0m\u001b[37m\u001b[0m \u001b[1m5s\u001b[0m 75ms/step - loss: 6.6093e-05 - val_loss: 4.8973e-04\n",
      "Epoch 20/100\n",
      "\u001b[1m65/65\u001b[0m \u001b[32m━━━━━━━━━━━━━━━━━━━━\u001b[0m\u001b[37m\u001b[0m \u001b[1m5s\u001b[0m 75ms/step - loss: 4.8076e-05 - val_loss: 0.0011\n",
      "Epoch 21/100\n",
      "\u001b[1m65/65\u001b[0m \u001b[32m━━━━━━━━━━━━━━━━━━━━\u001b[0m\u001b[37m\u001b[0m \u001b[1m5s\u001b[0m 74ms/step - loss: 4.7809e-05 - val_loss: 8.1751e-04\n",
      "Epoch 22/100\n",
      "\u001b[1m65/65\u001b[0m \u001b[32m━━━━━━━━━━━━━━━━━━━━\u001b[0m\u001b[37m\u001b[0m \u001b[1m5s\u001b[0m 74ms/step - loss: 3.9818e-05 - val_loss: 7.6891e-04\n",
      "Epoch 23/100\n",
      "\u001b[1m65/65\u001b[0m \u001b[32m━━━━━━━━━━━━━━━━━━━━\u001b[0m\u001b[37m\u001b[0m \u001b[1m5s\u001b[0m 75ms/step - loss: 3.7006e-05 - val_loss: 0.0012\n",
      "Epoch 24/100\n",
      "\u001b[1m65/65\u001b[0m \u001b[32m━━━━━━━━━━━━━━━━━━━━\u001b[0m\u001b[37m\u001b[0m \u001b[1m5s\u001b[0m 75ms/step - loss: 4.8392e-05 - val_loss: 3.9468e-04\n",
      "Epoch 25/100\n",
      "\u001b[1m65/65\u001b[0m \u001b[32m━━━━━━━━━━━━━━━━━━━━\u001b[0m\u001b[37m\u001b[0m \u001b[1m5s\u001b[0m 75ms/step - loss: 6.2140e-05 - val_loss: 4.0048e-04\n",
      "Epoch 26/100\n",
      "\u001b[1m65/65\u001b[0m \u001b[32m━━━━━━━━━━━━━━━━━━━━\u001b[0m\u001b[37m\u001b[0m \u001b[1m5s\u001b[0m 75ms/step - loss: 3.6228e-05 - val_loss: 4.6227e-04\n",
      "Epoch 27/100\n",
      "\u001b[1m65/65\u001b[0m \u001b[32m━━━━━━━━━━━━━━━━━━━━\u001b[0m\u001b[37m\u001b[0m \u001b[1m5s\u001b[0m 74ms/step - loss: 5.0485e-05 - val_loss: 0.0015\n",
      "Epoch 28/100\n",
      "\u001b[1m65/65\u001b[0m \u001b[32m━━━━━━━━━━━━━━━━━━━━\u001b[0m\u001b[37m\u001b[0m \u001b[1m5s\u001b[0m 75ms/step - loss: 5.3919e-05 - val_loss: 4.4957e-04\n",
      "Epoch 29/100\n",
      "\u001b[1m65/65\u001b[0m \u001b[32m━━━━━━━━━━━━━━━━━━━━\u001b[0m\u001b[37m\u001b[0m \u001b[1m5s\u001b[0m 75ms/step - loss: 3.1864e-05 - val_loss: 3.9219e-04\n",
      "Epoch 30/100\n",
      "\u001b[1m65/65\u001b[0m \u001b[32m━━━━━━━━━━━━━━━━━━━━\u001b[0m\u001b[37m\u001b[0m \u001b[1m5s\u001b[0m 75ms/step - loss: 3.0587e-05 - val_loss: 4.9147e-04\n",
      "Epoch 31/100\n",
      "\u001b[1m65/65\u001b[0m \u001b[32m━━━━━━━━━━━━━━━━━━━━\u001b[0m\u001b[37m\u001b[0m \u001b[1m5s\u001b[0m 74ms/step - loss: 2.7751e-05 - val_loss: 3.7329e-04\n",
      "Epoch 32/100\n",
      "\u001b[1m65/65\u001b[0m \u001b[32m━━━━━━━━━━━━━━━━━━━━\u001b[0m\u001b[37m\u001b[0m \u001b[1m5s\u001b[0m 74ms/step - loss: 3.3454e-05 - val_loss: 4.7547e-04\n",
      "Epoch 33/100\n",
      "\u001b[1m65/65\u001b[0m \u001b[32m━━━━━━━━━━━━━━━━━━━━\u001b[0m\u001b[37m\u001b[0m \u001b[1m5s\u001b[0m 75ms/step - loss: 4.8279e-05 - val_loss: 9.4990e-04\n",
      "Epoch 34/100\n",
      "\u001b[1m65/65\u001b[0m \u001b[32m━━━━━━━━━━━━━━━━━━━━\u001b[0m\u001b[37m\u001b[0m \u001b[1m5s\u001b[0m 75ms/step - loss: 2.9961e-05 - val_loss: 5.2417e-04\n",
      "Epoch 35/100\n",
      "\u001b[1m65/65\u001b[0m \u001b[32m━━━━━━━━━━━━━━━━━━━━\u001b[0m\u001b[37m\u001b[0m \u001b[1m5s\u001b[0m 75ms/step - loss: 2.6192e-05 - val_loss: 6.1614e-04\n",
      "Epoch 36/100\n",
      "\u001b[1m65/65\u001b[0m \u001b[32m━━━━━━━━━━━━━━━━━━━━\u001b[0m\u001b[37m\u001b[0m \u001b[1m5s\u001b[0m 75ms/step - loss: 2.5696e-05 - val_loss: 3.1991e-04\n",
      "Epoch 37/100\n",
      "\u001b[1m65/65\u001b[0m \u001b[32m━━━━━━━━━━━━━━━━━━━━\u001b[0m\u001b[37m\u001b[0m \u001b[1m5s\u001b[0m 75ms/step - loss: 4.2806e-05 - val_loss: 6.6744e-04\n",
      "Epoch 38/100\n",
      "\u001b[1m65/65\u001b[0m \u001b[32m━━━━━━━━━━━━━━━━━━━━\u001b[0m\u001b[37m\u001b[0m \u001b[1m5s\u001b[0m 75ms/step - loss: 3.5301e-05 - val_loss: 4.1802e-04\n",
      "Epoch 39/100\n",
      "\u001b[1m65/65\u001b[0m \u001b[32m━━━━━━━━━━━━━━━━━━━━\u001b[0m\u001b[37m\u001b[0m \u001b[1m5s\u001b[0m 74ms/step - loss: 2.5980e-05 - val_loss: 2.7516e-04\n",
      "Epoch 40/100\n",
      "\u001b[1m65/65\u001b[0m \u001b[32m━━━━━━━━━━━━━━━━━━━━\u001b[0m\u001b[37m\u001b[0m \u001b[1m5s\u001b[0m 75ms/step - loss: 4.0736e-05 - val_loss: 2.8189e-04\n",
      "Epoch 41/100\n",
      "\u001b[1m65/65\u001b[0m \u001b[32m━━━━━━━━━━━━━━━━━━━━\u001b[0m\u001b[37m\u001b[0m \u001b[1m5s\u001b[0m 75ms/step - loss: 3.1843e-05 - val_loss: 3.2558e-04\n",
      "Epoch 42/100\n",
      "\u001b[1m65/65\u001b[0m \u001b[32m━━━━━━━━━━━━━━━━━━━━\u001b[0m\u001b[37m\u001b[0m \u001b[1m5s\u001b[0m 75ms/step - loss: 2.4796e-05 - val_loss: 3.3346e-04\n",
      "Epoch 43/100\n",
      "\u001b[1m65/65\u001b[0m \u001b[32m━━━━━━━━━━━━━━━━━━━━\u001b[0m\u001b[37m\u001b[0m \u001b[1m5s\u001b[0m 75ms/step - loss: 2.4490e-05 - val_loss: 6.1571e-04\n",
      "Epoch 44/100\n",
      "\u001b[1m65/65\u001b[0m \u001b[32m━━━━━━━━━━━━━━━━━━━━\u001b[0m\u001b[37m\u001b[0m \u001b[1m5s\u001b[0m 75ms/step - loss: 2.2605e-05 - val_loss: 2.5738e-04\n",
      "Epoch 45/100\n",
      "\u001b[1m65/65\u001b[0m \u001b[32m━━━━━━━━━━━━━━━━━━━━\u001b[0m\u001b[37m\u001b[0m \u001b[1m5s\u001b[0m 75ms/step - loss: 2.2534e-05 - val_loss: 4.7222e-04\n",
      "Epoch 46/100\n",
      "\u001b[1m65/65\u001b[0m \u001b[32m━━━━━━━━━━━━━━━━━━━━\u001b[0m\u001b[37m\u001b[0m \u001b[1m5s\u001b[0m 73ms/step - loss: 3.4362e-05 - val_loss: 2.6343e-04\n",
      "Epoch 47/100\n",
      "\u001b[1m65/65\u001b[0m \u001b[32m━━━━━━━━━━━━━━━━━━━━\u001b[0m\u001b[37m\u001b[0m \u001b[1m4s\u001b[0m 63ms/step - loss: 2.2345e-05 - val_loss: 8.9592e-04\n",
      "Epoch 48/100\n",
      "\u001b[1m65/65\u001b[0m \u001b[32m━━━━━━━━━━━━━━━━━━━━\u001b[0m\u001b[37m\u001b[0m \u001b[1m4s\u001b[0m 63ms/step - loss: 4.0589e-05 - val_loss: 2.4435e-04\n",
      "Epoch 49/100\n",
      "\u001b[1m65/65\u001b[0m \u001b[32m━━━━━━━━━━━━━━━━━━━━\u001b[0m\u001b[37m\u001b[0m \u001b[1m4s\u001b[0m 63ms/step - loss: 1.9850e-05 - val_loss: 3.7164e-04\n",
      "Epoch 50/100\n",
      "\u001b[1m65/65\u001b[0m \u001b[32m━━━━━━━━━━━━━━━━━━━━\u001b[0m\u001b[37m\u001b[0m \u001b[1m4s\u001b[0m 62ms/step - loss: 2.6697e-05 - val_loss: 2.4450e-04\n",
      "Epoch 51/100\n",
      "\u001b[1m65/65\u001b[0m \u001b[32m━━━━━━━━━━━━━━━━━━━━\u001b[0m\u001b[37m\u001b[0m \u001b[1m4s\u001b[0m 62ms/step - loss: 2.8166e-05 - val_loss: 3.8509e-04\n",
      "Epoch 52/100\n",
      "\u001b[1m65/65\u001b[0m \u001b[32m━━━━━━━━━━━━━━━━━━━━\u001b[0m\u001b[37m\u001b[0m \u001b[1m4s\u001b[0m 62ms/step - loss: 1.8954e-05 - val_loss: 3.0665e-04\n",
      "Epoch 53/100\n",
      "\u001b[1m65/65\u001b[0m \u001b[32m━━━━━━━━━━━━━━━━━━━━\u001b[0m\u001b[37m\u001b[0m \u001b[1m4s\u001b[0m 62ms/step - loss: 2.0446e-05 - val_loss: 8.5601e-04\n",
      "Epoch 54/100\n",
      "\u001b[1m65/65\u001b[0m \u001b[32m━━━━━━━━━━━━━━━━━━━━\u001b[0m\u001b[37m\u001b[0m \u001b[1m4s\u001b[0m 62ms/step - loss: 3.0338e-05 - val_loss: 5.6719e-04\n",
      "Epoch 55/100\n",
      "\u001b[1m65/65\u001b[0m \u001b[32m━━━━━━━━━━━━━━━━━━━━\u001b[0m\u001b[37m\u001b[0m \u001b[1m5s\u001b[0m 73ms/step - loss: 2.1967e-05 - val_loss: 3.4195e-04\n",
      "Epoch 56/100\n",
      "\u001b[1m65/65\u001b[0m \u001b[32m━━━━━━━━━━━━━━━━━━━━\u001b[0m\u001b[37m\u001b[0m \u001b[1m4s\u001b[0m 67ms/step - loss: 3.0407e-05 - val_loss: 5.5364e-04\n",
      "Epoch 57/100\n",
      "\u001b[1m65/65\u001b[0m \u001b[32m━━━━━━━━━━━━━━━━━━━━\u001b[0m\u001b[37m\u001b[0m \u001b[1m4s\u001b[0m 66ms/step - loss: 1.6183e-05 - val_loss: 2.7998e-04\n",
      "Epoch 58/100\n",
      "\u001b[1m65/65\u001b[0m \u001b[32m━━━━━━━━━━━━━━━━━━━━\u001b[0m\u001b[37m\u001b[0m \u001b[1m5s\u001b[0m 76ms/step - loss: 2.2902e-05 - val_loss: 5.1045e-04\n",
      "Epoch 59/100\n",
      "\u001b[1m65/65\u001b[0m \u001b[32m━━━━━━━━━━━━━━━━━━━━\u001b[0m\u001b[37m\u001b[0m \u001b[1m5s\u001b[0m 71ms/step - loss: 1.8980e-05 - val_loss: 5.0424e-04\n",
      "Epoch 60/100\n",
      "\u001b[1m65/65\u001b[0m \u001b[32m━━━━━━━━━━━━━━━━━━━━\u001b[0m\u001b[37m\u001b[0m \u001b[1m4s\u001b[0m 63ms/step - loss: 2.9828e-05 - val_loss: 4.4598e-04\n",
      "Epoch 61/100\n",
      "\u001b[1m65/65\u001b[0m \u001b[32m━━━━━━━━━━━━━━━━━━━━\u001b[0m\u001b[37m\u001b[0m \u001b[1m5s\u001b[0m 71ms/step - loss: 2.1268e-05 - val_loss: 5.5707e-04\n",
      "Epoch 62/100\n",
      "\u001b[1m65/65\u001b[0m \u001b[32m━━━━━━━━━━━━━━━━━━━━\u001b[0m\u001b[37m\u001b[0m \u001b[1m5s\u001b[0m 75ms/step - loss: 2.1863e-05 - val_loss: 3.5527e-04\n",
      "Epoch 63/100\n",
      "\u001b[1m65/65\u001b[0m \u001b[32m━━━━━━━━━━━━━━━━━━━━\u001b[0m\u001b[37m\u001b[0m \u001b[1m5s\u001b[0m 74ms/step - loss: 1.8900e-05 - val_loss: 2.5781e-04\n",
      "Epoch 64/100\n",
      "\u001b[1m65/65\u001b[0m \u001b[32m━━━━━━━━━━━━━━━━━━━━\u001b[0m\u001b[37m\u001b[0m \u001b[1m5s\u001b[0m 75ms/step - loss: 2.5146e-05 - val_loss: 3.8889e-04\n",
      "Epoch 65/100\n",
      "\u001b[1m65/65\u001b[0m \u001b[32m━━━━━━━━━━━━━━━━━━━━\u001b[0m\u001b[37m\u001b[0m \u001b[1m5s\u001b[0m 75ms/step - loss: 1.8260e-05 - val_loss: 2.2361e-04\n",
      "Epoch 66/100\n",
      "\u001b[1m65/65\u001b[0m \u001b[32m━━━━━━━━━━━━━━━━━━━━\u001b[0m\u001b[37m\u001b[0m \u001b[1m5s\u001b[0m 72ms/step - loss: 2.0652e-05 - val_loss: 0.0012\n",
      "Epoch 67/100\n",
      "\u001b[1m65/65\u001b[0m \u001b[32m━━━━━━━━━━━━━━━━━━━━\u001b[0m\u001b[37m\u001b[0m \u001b[1m4s\u001b[0m 67ms/step - loss: 2.3838e-05 - val_loss: 6.6173e-04\n",
      "Epoch 68/100\n",
      "\u001b[1m65/65\u001b[0m \u001b[32m━━━━━━━━━━━━━━━━━━━━\u001b[0m\u001b[37m\u001b[0m \u001b[1m5s\u001b[0m 74ms/step - loss: 2.6431e-05 - val_loss: 5.1012e-04\n",
      "Epoch 69/100\n",
      "\u001b[1m65/65\u001b[0m \u001b[32m━━━━━━━━━━━━━━━━━━━━\u001b[0m\u001b[37m\u001b[0m \u001b[1m5s\u001b[0m 74ms/step - loss: 1.8941e-05 - val_loss: 0.0012\n",
      "Epoch 70/100\n",
      "\u001b[1m65/65\u001b[0m \u001b[32m━━━━━━━━━━━━━━━━━━━━\u001b[0m\u001b[37m\u001b[0m \u001b[1m5s\u001b[0m 74ms/step - loss: 2.5326e-05 - val_loss: 5.7832e-04\n",
      "Epoch 71/100\n",
      "\u001b[1m65/65\u001b[0m \u001b[32m━━━━━━━━━━━━━━━━━━━━\u001b[0m\u001b[37m\u001b[0m \u001b[1m5s\u001b[0m 74ms/step - loss: 1.8704e-05 - val_loss: 3.2345e-04\n",
      "Epoch 72/100\n",
      "\u001b[1m65/65\u001b[0m \u001b[32m━━━━━━━━━━━━━━━━━━━━\u001b[0m\u001b[37m\u001b[0m \u001b[1m5s\u001b[0m 74ms/step - loss: 2.0931e-05 - val_loss: 2.1607e-04\n",
      "Epoch 73/100\n",
      "\u001b[1m65/65\u001b[0m \u001b[32m━━━━━━━━━━━━━━━━━━━━\u001b[0m\u001b[37m\u001b[0m \u001b[1m5s\u001b[0m 74ms/step - loss: 2.5190e-05 - val_loss: 3.6187e-04\n",
      "Epoch 74/100\n",
      "\u001b[1m65/65\u001b[0m \u001b[32m━━━━━━━━━━━━━━━━━━━━\u001b[0m\u001b[37m\u001b[0m \u001b[1m5s\u001b[0m 74ms/step - loss: 1.7217e-05 - val_loss: 6.6476e-04\n",
      "Epoch 75/100\n",
      "\u001b[1m65/65\u001b[0m \u001b[32m━━━━━━━━━━━━━━━━━━━━\u001b[0m\u001b[37m\u001b[0m \u001b[1m5s\u001b[0m 74ms/step - loss: 2.5314e-05 - val_loss: 3.8776e-04\n",
      "Epoch 76/100\n",
      "\u001b[1m65/65\u001b[0m \u001b[32m━━━━━━━━━━━━━━━━━━━━\u001b[0m\u001b[37m\u001b[0m \u001b[1m5s\u001b[0m 74ms/step - loss: 1.7073e-05 - val_loss: 2.1951e-04\n",
      "Epoch 77/100\n",
      "\u001b[1m65/65\u001b[0m \u001b[32m━━━━━━━━━━━━━━━━━━━━\u001b[0m\u001b[37m\u001b[0m \u001b[1m5s\u001b[0m 73ms/step - loss: 1.6319e-05 - val_loss: 2.0806e-04\n",
      "Epoch 78/100\n",
      "\u001b[1m65/65\u001b[0m \u001b[32m━━━━━━━━━━━━━━━━━━━━\u001b[0m\u001b[37m\u001b[0m \u001b[1m5s\u001b[0m 73ms/step - loss: 1.7490e-05 - val_loss: 4.6416e-04\n",
      "Epoch 79/100\n",
      "\u001b[1m65/65\u001b[0m \u001b[32m━━━━━━━━━━━━━━━━━━━━\u001b[0m\u001b[37m\u001b[0m \u001b[1m5s\u001b[0m 74ms/step - loss: 2.5277e-05 - val_loss: 7.3298e-04\n",
      "Epoch 80/100\n",
      "\u001b[1m65/65\u001b[0m \u001b[32m━━━━━━━━━━━━━━━━━━━━\u001b[0m\u001b[37m\u001b[0m \u001b[1m5s\u001b[0m 73ms/step - loss: 1.7110e-05 - val_loss: 3.0281e-04\n",
      "Epoch 81/100\n",
      "\u001b[1m65/65\u001b[0m \u001b[32m━━━━━━━━━━━━━━━━━━━━\u001b[0m\u001b[37m\u001b[0m \u001b[1m5s\u001b[0m 73ms/step - loss: 1.9196e-05 - val_loss: 4.0922e-04\n",
      "Epoch 82/100\n",
      "\u001b[1m65/65\u001b[0m \u001b[32m━━━━━━━━━━━━━━━━━━━━\u001b[0m\u001b[37m\u001b[0m \u001b[1m5s\u001b[0m 74ms/step - loss: 1.7156e-05 - val_loss: 2.7264e-04\n",
      "Epoch 83/100\n",
      "\u001b[1m65/65\u001b[0m \u001b[32m━━━━━━━━━━━━━━━━━━━━\u001b[0m\u001b[37m\u001b[0m \u001b[1m5s\u001b[0m 73ms/step - loss: 2.1831e-05 - val_loss: 2.1761e-04\n",
      "Epoch 84/100\n",
      "\u001b[1m65/65\u001b[0m \u001b[32m━━━━━━━━━━━━━━━━━━━━\u001b[0m\u001b[37m\u001b[0m \u001b[1m5s\u001b[0m 74ms/step - loss: 1.7423e-05 - val_loss: 2.9402e-04\n",
      "Epoch 85/100\n",
      "\u001b[1m65/65\u001b[0m \u001b[32m━━━━━━━━━━━━━━━━━━━━\u001b[0m\u001b[37m\u001b[0m \u001b[1m5s\u001b[0m 74ms/step - loss: 3.1357e-05 - val_loss: 3.0094e-04\n",
      "Epoch 86/100\n",
      "\u001b[1m65/65\u001b[0m \u001b[32m━━━━━━━━━━━━━━━━━━━━\u001b[0m\u001b[37m\u001b[0m \u001b[1m5s\u001b[0m 74ms/step - loss: 1.6060e-05 - val_loss: 2.2112e-04\n",
      "Epoch 87/100\n",
      "\u001b[1m65/65\u001b[0m \u001b[32m━━━━━━━━━━━━━━━━━━━━\u001b[0m\u001b[37m\u001b[0m \u001b[1m5s\u001b[0m 74ms/step - loss: 2.6809e-05 - val_loss: 2.9456e-04\n",
      "Epoch 88/100\n",
      "\u001b[1m65/65\u001b[0m \u001b[32m━━━━━━━━━━━━━━━━━━━━\u001b[0m\u001b[37m\u001b[0m \u001b[1m5s\u001b[0m 74ms/step - loss: 1.8850e-05 - val_loss: 2.2612e-04\n",
      "Epoch 89/100\n",
      "\u001b[1m65/65\u001b[0m \u001b[32m━━━━━━━━━━━━━━━━━━━━\u001b[0m\u001b[37m\u001b[0m \u001b[1m5s\u001b[0m 74ms/step - loss: 2.3592e-05 - val_loss: 2.5377e-04\n",
      "Epoch 90/100\n",
      "\u001b[1m65/65\u001b[0m \u001b[32m━━━━━━━━━━━━━━━━━━━━\u001b[0m\u001b[37m\u001b[0m \u001b[1m5s\u001b[0m 74ms/step - loss: 2.0200e-05 - val_loss: 2.1428e-04\n",
      "Epoch 91/100\n",
      "\u001b[1m65/65\u001b[0m \u001b[32m━━━━━━━━━━━━━━━━━━━━\u001b[0m\u001b[37m\u001b[0m \u001b[1m5s\u001b[0m 74ms/step - loss: 1.9236e-05 - val_loss: 5.6314e-04\n",
      "Epoch 92/100\n",
      "\u001b[1m65/65\u001b[0m \u001b[32m━━━━━━━━━━━━━━━━━━━━\u001b[0m\u001b[37m\u001b[0m \u001b[1m5s\u001b[0m 74ms/step - loss: 1.9655e-05 - val_loss: 3.1157e-04\n",
      "Epoch 93/100\n",
      "\u001b[1m65/65\u001b[0m \u001b[32m━━━━━━━━━━━━━━━━━━━━\u001b[0m\u001b[37m\u001b[0m \u001b[1m5s\u001b[0m 74ms/step - loss: 2.2757e-05 - val_loss: 3.1203e-04\n",
      "Epoch 94/100\n",
      "\u001b[1m65/65\u001b[0m \u001b[32m━━━━━━━━━━━━━━━━━━━━\u001b[0m\u001b[37m\u001b[0m \u001b[1m5s\u001b[0m 74ms/step - loss: 2.0929e-05 - val_loss: 2.4379e-04\n",
      "Epoch 95/100\n",
      "\u001b[1m65/65\u001b[0m \u001b[32m━━━━━━━━━━━━━━━━━━━━\u001b[0m\u001b[37m\u001b[0m \u001b[1m5s\u001b[0m 74ms/step - loss: 1.8423e-05 - val_loss: 5.1130e-04\n",
      "Epoch 96/100\n",
      "\u001b[1m65/65\u001b[0m \u001b[32m━━━━━━━━━━━━━━━━━━━━\u001b[0m\u001b[37m\u001b[0m \u001b[1m5s\u001b[0m 74ms/step - loss: 1.7165e-05 - val_loss: 9.2167e-04\n",
      "Epoch 97/100\n",
      "\u001b[1m65/65\u001b[0m \u001b[32m━━━━━━━━━━━━━━━━━━━━\u001b[0m\u001b[37m\u001b[0m \u001b[1m5s\u001b[0m 75ms/step - loss: 1.8927e-05 - val_loss: 2.4519e-04\n",
      "Epoch 98/100\n",
      "\u001b[1m65/65\u001b[0m \u001b[32m━━━━━━━━━━━━━━━━━━━━\u001b[0m\u001b[37m\u001b[0m \u001b[1m5s\u001b[0m 74ms/step - loss: 2.7469e-05 - val_loss: 4.0884e-04\n",
      "Epoch 99/100\n",
      "\u001b[1m65/65\u001b[0m \u001b[32m━━━━━━━━━━━━━━━━━━━━\u001b[0m\u001b[37m\u001b[0m \u001b[1m5s\u001b[0m 76ms/step - loss: 1.9369e-05 - val_loss: 3.2027e-04\n",
      "Epoch 100/100\n",
      "\u001b[1m65/65\u001b[0m \u001b[32m━━━━━━━━━━━━━━━━━━━━\u001b[0m\u001b[37m\u001b[0m \u001b[1m5s\u001b[0m 75ms/step - loss: 1.8732e-05 - val_loss: 2.9254e-04\n"
     ]
    },
    {
     "data": {
      "text/plain": [
       "<keras.src.callbacks.history.History at 0x7fd2146fec20>"
      ]
     },
     "execution_count": 23,
     "metadata": {},
     "output_type": "execute_result"
    }
   ],
   "source": [
    "model.fit(X_train,y_train,validation_data=(X_test,ytest),epochs=100,batch_size=64,verbose=1)"
   ]
  },
  {
   "cell_type": "markdown",
   "metadata": {},
   "source": [
    "# 5) Performance Analysis"
   ]
  },
  {
   "cell_type": "code",
   "execution_count": 24,
   "metadata": {},
   "outputs": [
    {
     "name": "stdout",
     "output_type": "stream",
     "text": [
      "\u001b[1m130/130\u001b[0m \u001b[32m━━━━━━━━━━━━━━━━━━━━\u001b[0m\u001b[37m\u001b[0m \u001b[1m3s\u001b[0m 21ms/step\n",
      "\u001b[1m21/21\u001b[0m \u001b[32m━━━━━━━━━━━━━━━━━━━━\u001b[0m\u001b[37m\u001b[0m \u001b[1m0s\u001b[0m 19ms/step\n"
     ]
    }
   ],
   "source": [
    "train_predict = model.predict(X_train)\n",
    "test_predict = model.predict(X_test)"
   ]
  },
  {
   "cell_type": "code",
   "execution_count": 25,
   "metadata": {},
   "outputs": [
    {
     "data": {
      "text/plain": [
       "array([[0.00504643],\n",
       "       [0.00509027],\n",
       "       [0.00522855],\n",
       "       ...,\n",
       "       [0.6223095 ],\n",
       "       [0.6180805 ],\n",
       "       [0.618377  ]], dtype=float32)"
      ]
     },
     "execution_count": 25,
     "metadata": {},
     "output_type": "execute_result"
    }
   ],
   "source": [
    "train_predict"
   ]
  },
  {
   "cell_type": "code",
   "execution_count": 26,
   "metadata": {},
   "outputs": [],
   "source": [
    "# Transform the data back to original form\n",
    "train_predict = scaler.inverse_transform(train_predict)\n",
    "test_predict = scaler.inverse_transform(test_predict)"
   ]
  },
  {
   "cell_type": "code",
   "execution_count": 27,
   "metadata": {},
   "outputs": [
    {
     "data": {
      "text/plain": [
       "array([[  1.8409624],\n",
       "       [  1.8512282],\n",
       "       [  1.8836074],\n",
       "       ...,\n",
       "       [146.37973  ],\n",
       "       [145.38947  ],\n",
       "       [145.4589   ]], dtype=float32)"
      ]
     },
     "execution_count": 27,
     "metadata": {},
     "output_type": "execute_result"
    }
   ],
   "source": [
    "train_predict"
   ]
  },
  {
   "cell_type": "code",
   "execution_count": 28,
   "metadata": {},
   "outputs": [
    {
     "data": {
      "text/plain": [
       "42.36439395807233"
      ]
     },
     "execution_count": 28,
     "metadata": {},
     "output_type": "execute_result"
    }
   ],
   "source": [
    "# Calculate RMSE performance metrics\n",
    "import math\n",
    "from sklearn.metrics import mean_squared_error\n",
    "math.sqrt(mean_squared_error(y_train,train_predict))"
   ]
  },
  {
   "cell_type": "code",
   "execution_count": 29,
   "metadata": {},
   "outputs": [
    {
     "data": {
      "text/plain": [
       "168.23158751931086"
      ]
     },
     "execution_count": 29,
     "metadata": {},
     "output_type": "execute_result"
    }
   ],
   "source": [
    "# Test Data RMSE\n",
    "math.sqrt(mean_squared_error(ytest,test_predict))"
   ]
  },
  {
   "cell_type": "code",
   "execution_count": 30,
   "metadata": {},
   "outputs": [
    {
     "data": {
      "image/png": "[encoded data removed]",
      "text/plain": [
       "<Figure size 640x480 with 1 Axes>"
      ]
     },
     "metadata": {},
     "output_type": "display_data"
    }
   ],
   "source": [
    "# Plotting results\n",
    "# Shift train predictions for plotting\n",
    "look_back = time_step\n",
    "trainPredictPlot = numpy.empty_like(df1)\n",
    "trainPredictPlot[:, :] = np.nan\n",
    "trainPredictPlot[look_back:len(train_predict)+look_back, :] = train_predict\n",
    "# Fill the train predictions into the shifted positions of the trainPredictPlot array\n",
    "\n",
    "\n",
    "# Shift test predictions for plotting\n",
    "testPredictPlot = numpy.empty_like(df1)\n",
    "testPredictPlot[:, :] = numpy.nan\n",
    "testPredictPlot[len(train_predict)+(look_back*2)+1:len(df1)-1, :] = test_predict\n",
    "# Fill the test predictions into the shifted positions of the testPredictPlot array\n",
    "\n",
    "\n",
    "# Plot the baseline and predictions\n",
    "plt.plot(scaler.inverse_transform(df1))\n",
    "plt.plot(trainPredictPlot)\n",
    "plt.plot(testPredictPlot)\n",
    "plt.show()"
   ]
  },
  {
   "cell_type": "markdown",
   "metadata": {},
   "source": [
    "# 6) Predict stock price for the next 30 days"
   ]
  },
  {
   "cell_type": "code",
   "execution_count": 31,
   "metadata": {},
   "outputs": [
    {
     "data": {
      "text/plain": [
       "(1, 100)"
      ]
     },
     "execution_count": 31,
     "metadata": {},
     "output_type": "execute_result"
    }
   ],
   "source": [
    "x_input=test_data[len(test_data)-time_step:].reshape(1,-1)\n",
    "x_input.shape"
   ]
  },
  {
   "cell_type": "code",
   "execution_count": 32,
   "metadata": {},
   "outputs": [],
   "source": [
    "# Converting datatype to list\n",
    "temp_input=list(x_input)\n",
    "temp_input=temp_input[0].tolist()"
   ]
  },
  {
   "cell_type": "code",
   "execution_count": 33,
   "metadata": {},
   "outputs": [
    {
     "data": {
      "text/plain": [
       "[0.734370427878882,\n",
       " 0.7390680821114071,\n",
       " 0.7491466324217622,\n",
       " 0.7602073958302841,\n",
       " 0.7290322140527139,\n",
       " 0.7329184493574626,\n",
       " 0.726811564018923,\n",
       " 0.7219431156160074,\n",
       " 0.7373171323371257,\n",
       " 0.7295019794759664,\n",
       " 0.72330966447036,\n",
       " 0.7182276744816491,\n",
       " 0.7216868266148072,\n",
       " 0.7181423099783254,\n",
       " 0.7213879205256881,\n",
       " 0.7165621543744345,\n",
       " 0.7217722562818739,\n",
       " 0.7137008795832576,\n",
       " 0.7447052020266942,\n",
       " 0.7511538060335008,\n",
       " 0.734669399131744,\n",
       " 0.7205338193462498,\n",
       " 0.7146404104297626,\n",
       " 0.7105406335392185,\n",
       " 0.7018286972469592,\n",
       " 0.7054159612988458,\n",
       " 0.7099427561972375,\n",
       " 0.7189964111577637,\n",
       " 0.7227117871283789,\n",
       " 0.720192165841726,\n",
       " 0.7381285512649021,\n",
       " 0.724590848821389,\n",
       " 0.720192165841726,\n",
       " 0.7361213776531634,\n",
       " 0.7803218141993323,\n",
       " 0.773189968347221,\n",
       " 0.7761366076417218,\n",
       " 0.7775886513268842,\n",
       " 0.7854038041880432,\n",
       " 0.7789125179295748,\n",
       " 0.792706444210545,\n",
       " 0.7976175748651225,\n",
       " 0.8073972190863585,\n",
       " 0.807909666761273,\n",
       " 0.8080377786800015,\n",
       " 0.8130343390016457,\n",
       " 0.8186288418290137,\n",
       " 0.8124364616596647,\n",
       " 0.795268812912603,\n",
       " 0.8085075441032539,\n",
       " 0.808550291518659,\n",
       " 0.8098314107059448,\n",
       " 0.8141019817668793,\n",
       " 0.8182017586574233,\n",
       " 0.8258033699327871,\n",
       " 0.8271699839508827,\n",
       " 0.8336612050456083,\n",
       " 0.827725113877459,\n",
       " 0.8380172057736095,\n",
       " 0.8219171346280385,\n",
       " 0.8818332413998496,\n",
       " 0.9071150794246754,\n",
       " 0.9121116397463197,\n",
       " 0.9046381403896844,\n",
       " 0.9224890961457937,\n",
       " 0.9123251161683719,\n",
       " 0.8926377809709143,\n",
       " 0.883285285085012,\n",
       " 0.8860611302091221,\n",
       " 0.8900327951809376,\n",
       " 0.907883750937047,\n",
       " 0.9115137624043383,\n",
       " 0.8966521281943916,\n",
       " 0.9228307496503176,\n",
       " 0.9378631780306549,\n",
       " 0.9433295037755516,\n",
       " 0.963785510485381,\n",
       " 0.9701060025734588,\n",
       " 0.9737786311286691,\n",
       " 0.9921420997234358,\n",
       " 0.9690383598082252,\n",
       " 0.981721895908557,\n",
       " 0.9982063028103139,\n",
       " 1.0,\n",
       " 0.9746327974718504,\n",
       " 0.9545610613544641,\n",
       " 0.9551162564447832,\n",
       " 0.953621595671702,\n",
       " 0.9581056431546889,\n",
       " 0.9304750431773434,\n",
       " 0.9259909956943567,\n",
       " 0.9279981693060952,\n",
       " 0.9291939239900575,\n",
       " 0.9315854333579818,\n",
       " 0.9455929012247475,\n",
       " 0.9297063716649719,\n",
       " 0.9361122282563736,\n",
       " 0.8908868963603758,\n",
       " 0.8821748949043734,\n",
       " 0.8932357234766384]"
      ]
     },
     "execution_count": 33,
     "metadata": {},
     "output_type": "execute_result"
    }
   ],
   "source": [
    "temp_input"
   ]
  },
  {
   "cell_type": "code",
   "execution_count": 34,
   "metadata": {
    "scrolled": true
   },
   "outputs": [
    {
     "name": "stdout",
     "output_type": "stream",
     "text": [
      "0 day output [[0.87500966]]\n",
      "1 day input [0.73906808 0.74914663 0.7602074  0.72903221 0.73291845 0.72681156\n",
      " 0.72194312 0.73731713 0.72950198 0.72330966 0.71822767 0.72168683\n",
      " 0.71814231 0.72138792 0.71656215 0.72177226 0.71370088 0.7447052\n",
      " 0.75115381 0.7346694  0.72053382 0.71464041 0.71054063 0.7018287\n",
      " 0.70541596 0.70994276 0.71899641 0.72271179 0.72019217 0.73812855\n",
      " 0.72459085 0.72019217 0.73612138 0.78032181 0.77318997 0.77613661\n",
      " 0.77758865 0.7854038  0.77891252 0.79270644 0.79761757 0.80739722\n",
      " 0.80790967 0.80803778 0.81303434 0.81862884 0.81243646 0.79526881\n",
      " 0.80850754 0.80855029 0.80983141 0.81410198 0.81820176 0.82580337\n",
      " 0.82716998 0.83366121 0.82772511 0.83801721 0.82191713 0.88183324\n",
      " 0.90711508 0.91211164 0.90463814 0.9224891  0.91232512 0.89263778\n",
      " 0.88328529 0.88606113 0.8900328  0.90788375 0.91151376 0.89665213\n",
      " 0.92283075 0.93786318 0.9433295  0.96378551 0.970106   0.97377863\n",
      " 0.9921421  0.96903836 0.9817219  0.9982063  1.         0.9746328\n",
      " 0.95456106 0.95511626 0.9536216  0.95810564 0.93047504 0.925991\n",
      " 0.92799817 0.92919392 0.93158543 0.9455929  0.92970637 0.93611223\n",
      " 0.8908869  0.88217489 0.89323572 0.87500966]\n",
      "1 day output [[0.8495922]]\n",
      "2 day input [0.74914663 0.7602074  0.72903221 0.73291845 0.72681156 0.72194312\n",
      " 0.73731713 0.72950198 0.72330966 0.71822767 0.72168683 0.71814231\n",
      " 0.72138792 0.71656215 0.72177226 0.71370088 0.7447052  0.75115381\n",
      " 0.7346694  0.72053382 0.71464041 0.71054063 0.7018287  0.70541596\n",
      " 0.70994276 0.71899641 0.72271179 0.72019217 0.73812855 0.72459085\n",
      " 0.72019217 0.73612138 0.78032181 0.77318997 0.77613661 0.77758865\n",
      " 0.7854038  0.77891252 0.79270644 0.79761757 0.80739722 0.80790967\n",
      " 0.80803778 0.81303434 0.81862884 0.81243646 0.79526881 0.80850754\n",
      " 0.80855029 0.80983141 0.81410198 0.81820176 0.82580337 0.82716998\n",
      " 0.83366121 0.82772511 0.83801721 0.82191713 0.88183324 0.90711508\n",
      " 0.91211164 0.90463814 0.9224891  0.91232512 0.89263778 0.88328529\n",
      " 0.88606113 0.8900328  0.90788375 0.91151376 0.89665213 0.92283075\n",
      " 0.93786318 0.9433295  0.96378551 0.970106   0.97377863 0.9921421\n",
      " 0.96903836 0.9817219  0.9982063  1.         0.9746328  0.95456106\n",
      " 0.95511626 0.9536216  0.95810564 0.93047504 0.925991   0.92799817\n",
      " 0.92919392 0.93158543 0.9455929  0.92970637 0.93611223 0.8908869\n",
      " 0.88217489 0.89323572 0.87500966 0.84959221]\n",
      "2 day output [[0.8289856]]\n",
      "3 day input [0.7602074  0.72903221 0.73291845 0.72681156 0.72194312 0.73731713\n",
      " 0.72950198 0.72330966 0.71822767 0.72168683 0.71814231 0.72138792\n",
      " 0.71656215 0.72177226 0.71370088 0.7447052  0.75115381 0.7346694\n",
      " 0.72053382 0.71464041 0.71054063 0.7018287  0.70541596 0.70994276\n",
      " 0.71899641 0.72271179 0.72019217 0.73812855 0.72459085 0.72019217\n",
      " 0.73612138 0.78032181 0.77318997 0.77613661 0.77758865 0.7854038\n",
      " 0.77891252 0.79270644 0.79761757 0.80739722 0.80790967 0.80803778\n",
      " 0.81303434 0.81862884 0.81243646 0.79526881 0.80850754 0.80855029\n",
      " 0.80983141 0.81410198 0.81820176 0.82580337 0.82716998 0.83366121\n",
      " 0.82772511 0.83801721 0.82191713 0.88183324 0.90711508 0.91211164\n",
      " 0.90463814 0.9224891  0.91232512 0.89263778 0.88328529 0.88606113\n",
      " 0.8900328  0.90788375 0.91151376 0.89665213 0.92283075 0.93786318\n",
      " 0.9433295  0.96378551 0.970106   0.97377863 0.9921421  0.96903836\n",
      " 0.9817219  0.9982063  1.         0.9746328  0.95456106 0.95511626\n",
      " 0.9536216  0.95810564 0.93047504 0.925991   0.92799817 0.92919392\n",
      " 0.93158543 0.9455929  0.92970637 0.93611223 0.8908869  0.88217489\n",
      " 0.89323572 0.87500966 0.84959221 0.82898557]\n",
      "3 day output [[0.81295025]]\n",
      "4 day input [0.72903221 0.73291845 0.72681156 0.72194312 0.73731713 0.72950198\n",
      " 0.72330966 0.71822767 0.72168683 0.71814231 0.72138792 0.71656215\n",
      " 0.72177226 0.71370088 0.7447052  0.75115381 0.7346694  0.72053382\n",
      " 0.71464041 0.71054063 0.7018287  0.70541596 0.70994276 0.71899641\n",
      " 0.72271179 0.72019217 0.73812855 0.72459085 0.72019217 0.73612138\n",
      " 0.78032181 0.77318997 0.77613661 0.77758865 0.7854038  0.77891252\n",
      " 0.79270644 0.79761757 0.80739722 0.80790967 0.80803778 0.81303434\n",
      " 0.81862884 0.81243646 0.79526881 0.80850754 0.80855029 0.80983141\n",
      " 0.81410198 0.81820176 0.82580337 0.82716998 0.83366121 0.82772511\n",
      " 0.83801721 0.82191713 0.88183324 0.90711508 0.91211164 0.90463814\n",
      " 0.9224891  0.91232512 0.89263778 0.88328529 0.88606113 0.8900328\n",
      " 0.90788375 0.91151376 0.89665213 0.92283075 0.93786318 0.9433295\n",
      " 0.96378551 0.970106   0.97377863 0.9921421  0.96903836 0.9817219\n",
      " 0.9982063  1.         0.9746328  0.95456106 0.95511626 0.9536216\n",
      " 0.95810564 0.93047504 0.925991   0.92799817 0.92919392 0.93158543\n",
      " 0.9455929  0.92970637 0.93611223 0.8908869  0.88217489 0.89323572\n",
      " 0.87500966 0.84959221 0.82898557 0.81295025]\n",
      "4 day output [[0.8001854]]\n",
      "5 day input [0.73291845 0.72681156 0.72194312 0.73731713 0.72950198 0.72330966\n",
      " 0.71822767 0.72168683 0.71814231 0.72138792 0.71656215 0.72177226\n",
      " 0.71370088 0.7447052  0.75115381 0.7346694  0.72053382 0.71464041\n",
      " 0.71054063 0.7018287  0.70541596 0.70994276 0.71899641 0.72271179\n",
      " 0.72019217 0.73812855 0.72459085 0.72019217 0.73612138 0.78032181\n",
      " 0.77318997 0.77613661 0.77758865 0.7854038  0.77891252 0.79270644\n",
      " 0.79761757 0.80739722 0.80790967 0.80803778 0.81303434 0.81862884\n",
      " 0.81243646 0.79526881 0.80850754 0.80855029 0.80983141 0.81410198\n",
      " 0.81820176 0.82580337 0.82716998 0.83366121 0.82772511 0.83801721\n",
      " 0.82191713 0.88183324 0.90711508 0.91211164 0.90463814 0.9224891\n",
      " 0.91232512 0.89263778 0.88328529 0.88606113 0.8900328  0.90788375\n",
      " 0.91151376 0.89665213 0.92283075 0.93786318 0.9433295  0.96378551\n",
      " 0.970106   0.97377863 0.9921421  0.96903836 0.9817219  0.9982063\n",
      " 1.         0.9746328  0.95456106 0.95511626 0.9536216  0.95810564\n",
      " 0.93047504 0.925991   0.92799817 0.92919392 0.93158543 0.9455929\n",
      " 0.92970637 0.93611223 0.8908869  0.88217489 0.89323572 0.87500966\n",
      " 0.84959221 0.82898557 0.81295025 0.80018538]\n",
      "5 day output [[0.78928936]]\n",
      "6 day input [0.72681156 0.72194312 0.73731713 0.72950198 0.72330966 0.71822767\n",
      " 0.72168683 0.71814231 0.72138792 0.71656215 0.72177226 0.71370088\n",
      " 0.7447052  0.75115381 0.7346694  0.72053382 0.71464041 0.71054063\n",
      " 0.7018287  0.70541596 0.70994276 0.71899641 0.72271179 0.72019217\n",
      " 0.73812855 0.72459085 0.72019217 0.73612138 0.78032181 0.77318997\n",
      " 0.77613661 0.77758865 0.7854038  0.77891252 0.79270644 0.79761757\n",
      " 0.80739722 0.80790967 0.80803778 0.81303434 0.81862884 0.81243646\n",
      " 0.79526881 0.80850754 0.80855029 0.80983141 0.81410198 0.81820176\n",
      " 0.82580337 0.82716998 0.83366121 0.82772511 0.83801721 0.82191713\n",
      " 0.88183324 0.90711508 0.91211164 0.90463814 0.9224891  0.91232512\n",
      " 0.89263778 0.88328529 0.88606113 0.8900328  0.90788375 0.91151376\n",
      " 0.89665213 0.92283075 0.93786318 0.9433295  0.96378551 0.970106\n",
      " 0.97377863 0.9921421  0.96903836 0.9817219  0.9982063  1.\n",
      " 0.9746328  0.95456106 0.95511626 0.9536216  0.95810564 0.93047504\n",
      " 0.925991   0.92799817 0.92919392 0.93158543 0.9455929  0.92970637\n",
      " 0.93611223 0.8908869  0.88217489 0.89323572 0.87500966 0.84959221\n",
      " 0.82898557 0.81295025 0.80018538 0.78928936]\n",
      "6 day output [[0.7792452]]\n",
      "7 day input [0.72194312 0.73731713 0.72950198 0.72330966 0.71822767 0.72168683\n",
      " 0.71814231 0.72138792 0.71656215 0.72177226 0.71370088 0.7447052\n",
      " 0.75115381 0.7346694  0.72053382 0.71464041 0.71054063 0.7018287\n",
      " 0.70541596 0.70994276 0.71899641 0.72271179 0.72019217 0.73812855\n",
      " 0.72459085 0.72019217 0.73612138 0.78032181 0.77318997 0.77613661\n",
      " 0.77758865 0.7854038  0.77891252 0.79270644 0.79761757 0.80739722\n",
      " 0.80790967 0.80803778 0.81303434 0.81862884 0.81243646 0.79526881\n",
      " 0.80850754 0.80855029 0.80983141 0.81410198 0.81820176 0.82580337\n",
      " 0.82716998 0.83366121 0.82772511 0.83801721 0.82191713 0.88183324\n",
      " 0.90711508 0.91211164 0.90463814 0.9224891  0.91232512 0.89263778\n",
      " 0.88328529 0.88606113 0.8900328  0.90788375 0.91151376 0.89665213\n",
      " 0.92283075 0.93786318 0.9433295  0.96378551 0.970106   0.97377863\n",
      " 0.9921421  0.96903836 0.9817219  0.9982063  1.         0.9746328\n",
      " 0.95456106 0.95511626 0.9536216  0.95810564 0.93047504 0.925991\n",
      " 0.92799817 0.92919392 0.93158543 0.9455929  0.92970637 0.93611223\n",
      " 0.8908869  0.88217489 0.89323572 0.87500966 0.84959221 0.82898557\n",
      " 0.81295025 0.80018538 0.78928936 0.7792452 ]\n",
      "7 day output [[0.7695465]]\n",
      "8 day input [0.73731713 0.72950198 0.72330966 0.71822767 0.72168683 0.71814231\n",
      " 0.72138792 0.71656215 0.72177226 0.71370088 0.7447052  0.75115381\n",
      " 0.7346694  0.72053382 0.71464041 0.71054063 0.7018287  0.70541596\n",
      " 0.70994276 0.71899641 0.72271179 0.72019217 0.73812855 0.72459085\n",
      " 0.72019217 0.73612138 0.78032181 0.77318997 0.77613661 0.77758865\n",
      " 0.7854038  0.77891252 0.79270644 0.79761757 0.80739722 0.80790967\n",
      " 0.80803778 0.81303434 0.81862884 0.81243646 0.79526881 0.80850754\n",
      " 0.80855029 0.80983141 0.81410198 0.81820176 0.82580337 0.82716998\n",
      " 0.83366121 0.82772511 0.83801721 0.82191713 0.88183324 0.90711508\n",
      " 0.91211164 0.90463814 0.9224891  0.91232512 0.89263778 0.88328529\n",
      " 0.88606113 0.8900328  0.90788375 0.91151376 0.89665213 0.92283075\n",
      " 0.93786318 0.9433295  0.96378551 0.970106   0.97377863 0.9921421\n",
      " 0.96903836 0.9817219  0.9982063  1.         0.9746328  0.95456106\n",
      " 0.95511626 0.9536216  0.95810564 0.93047504 0.925991   0.92799817\n",
      " 0.92919392 0.93158543 0.9455929  0.92970637 0.93611223 0.8908869\n",
      " 0.88217489 0.89323572 0.87500966 0.84959221 0.82898557 0.81295025\n",
      " 0.80018538 0.78928936 0.7792452  0.76954651]\n",
      "8 day output [[0.76007074]]\n",
      "9 day input [0.72950198 0.72330966 0.71822767 0.72168683 0.71814231 0.72138792\n",
      " 0.71656215 0.72177226 0.71370088 0.7447052  0.75115381 0.7346694\n",
      " 0.72053382 0.71464041 0.71054063 0.7018287  0.70541596 0.70994276\n",
      " 0.71899641 0.72271179 0.72019217 0.73812855 0.72459085 0.72019217\n",
      " 0.73612138 0.78032181 0.77318997 0.77613661 0.77758865 0.7854038\n",
      " 0.77891252 0.79270644 0.79761757 0.80739722 0.80790967 0.80803778\n",
      " 0.81303434 0.81862884 0.81243646 0.79526881 0.80850754 0.80855029\n",
      " 0.80983141 0.81410198 0.81820176 0.82580337 0.82716998 0.83366121\n",
      " 0.82772511 0.83801721 0.82191713 0.88183324 0.90711508 0.91211164\n",
      " 0.90463814 0.9224891  0.91232512 0.89263778 0.88328529 0.88606113\n",
      " 0.8900328  0.90788375 0.91151376 0.89665213 0.92283075 0.93786318\n",
      " 0.9433295  0.96378551 0.970106   0.97377863 0.9921421  0.96903836\n",
      " 0.9817219  0.9982063  1.         0.9746328  0.95456106 0.95511626\n",
      " 0.9536216  0.95810564 0.93047504 0.925991   0.92799817 0.92919392\n",
      " 0.93158543 0.9455929  0.92970637 0.93611223 0.8908869  0.88217489\n",
      " 0.89323572 0.87500966 0.84959221 0.82898557 0.81295025 0.80018538\n",
      " 0.78928936 0.7792452  0.76954651 0.76007074]\n",
      "9 day output [[0.7508935]]\n",
      "10 day input [0.72330966 0.71822767 0.72168683 0.71814231 0.72138792 0.71656215\n",
      " 0.72177226 0.71370088 0.7447052  0.75115381 0.7346694  0.72053382\n",
      " 0.71464041 0.71054063 0.7018287  0.70541596 0.70994276 0.71899641\n",
      " 0.72271179 0.72019217 0.73812855 0.72459085 0.72019217 0.73612138\n",
      " 0.78032181 0.77318997 0.77613661 0.77758865 0.7854038  0.77891252\n",
      " 0.79270644 0.79761757 0.80739722 0.80790967 0.80803778 0.81303434\n",
      " 0.81862884 0.81243646 0.79526881 0.80850754 0.80855029 0.80983141\n",
      " 0.81410198 0.81820176 0.82580337 0.82716998 0.83366121 0.82772511\n",
      " 0.83801721 0.82191713 0.88183324 0.90711508 0.91211164 0.90463814\n",
      " 0.9224891  0.91232512 0.89263778 0.88328529 0.88606113 0.8900328\n",
      " 0.90788375 0.91151376 0.89665213 0.92283075 0.93786318 0.9433295\n",
      " 0.96378551 0.970106   0.97377863 0.9921421  0.96903836 0.9817219\n",
      " 0.9982063  1.         0.9746328  0.95456106 0.95511626 0.9536216\n",
      " 0.95810564 0.93047504 0.925991   0.92799817 0.92919392 0.93158543\n",
      " 0.9455929  0.92970637 0.93611223 0.8908869  0.88217489 0.89323572\n",
      " 0.87500966 0.84959221 0.82898557 0.81295025 0.80018538 0.78928936\n",
      " 0.7792452  0.76954651 0.76007074 0.75089347]\n",
      "10 day output [[0.74214464]]\n",
      "11 day input [0.71822767 0.72168683 0.71814231 0.72138792 0.71656215 0.72177226\n",
      " 0.71370088 0.7447052  0.75115381 0.7346694  0.72053382 0.71464041\n",
      " 0.71054063 0.7018287  0.70541596 0.70994276 0.71899641 0.72271179\n",
      " 0.72019217 0.73812855 0.72459085 0.72019217 0.73612138 0.78032181\n",
      " 0.77318997 0.77613661 0.77758865 0.7854038  0.77891252 0.79270644\n",
      " 0.79761757 0.80739722 0.80790967 0.80803778 0.81303434 0.81862884\n",
      " 0.81243646 0.79526881 0.80850754 0.80855029 0.80983141 0.81410198\n",
      " 0.81820176 0.82580337 0.82716998 0.83366121 0.82772511 0.83801721\n",
      " 0.82191713 0.88183324 0.90711508 0.91211164 0.90463814 0.9224891\n",
      " 0.91232512 0.89263778 0.88328529 0.88606113 0.8900328  0.90788375\n",
      " 0.91151376 0.89665213 0.92283075 0.93786318 0.9433295  0.96378551\n",
      " 0.970106   0.97377863 0.9921421  0.96903836 0.9817219  0.9982063\n",
      " 1.         0.9746328  0.95456106 0.95511626 0.9536216  0.95810564\n",
      " 0.93047504 0.925991   0.92799817 0.92919392 0.93158543 0.9455929\n",
      " 0.92970637 0.93611223 0.8908869  0.88217489 0.89323572 0.87500966\n",
      " 0.84959221 0.82898557 0.81295025 0.80018538 0.78928936 0.7792452\n",
      " 0.76954651 0.76007074 0.75089347 0.74214464]\n",
      "11 day output [[0.73392963]]\n",
      "12 day input [0.72168683 0.71814231 0.72138792 0.71656215 0.72177226 0.71370088\n",
      " 0.7447052  0.75115381 0.7346694  0.72053382 0.71464041 0.71054063\n",
      " 0.7018287  0.70541596 0.70994276 0.71899641 0.72271179 0.72019217\n",
      " 0.73812855 0.72459085 0.72019217 0.73612138 0.78032181 0.77318997\n",
      " 0.77613661 0.77758865 0.7854038  0.77891252 0.79270644 0.79761757\n",
      " 0.80739722 0.80790967 0.80803778 0.81303434 0.81862884 0.81243646\n",
      " 0.79526881 0.80850754 0.80855029 0.80983141 0.81410198 0.81820176\n",
      " 0.82580337 0.82716998 0.83366121 0.82772511 0.83801721 0.82191713\n",
      " 0.88183324 0.90711508 0.91211164 0.90463814 0.9224891  0.91232512\n",
      " 0.89263778 0.88328529 0.88606113 0.8900328  0.90788375 0.91151376\n",
      " 0.89665213 0.92283075 0.93786318 0.9433295  0.96378551 0.970106\n",
      " 0.97377863 0.9921421  0.96903836 0.9817219  0.9982063  1.\n",
      " 0.9746328  0.95456106 0.95511626 0.9536216  0.95810564 0.93047504\n",
      " 0.925991   0.92799817 0.92919392 0.93158543 0.9455929  0.92970637\n",
      " 0.93611223 0.8908869  0.88217489 0.89323572 0.87500966 0.84959221\n",
      " 0.82898557 0.81295025 0.80018538 0.78928936 0.7792452  0.76954651\n",
      " 0.76007074 0.75089347 0.74214464 0.73392963]\n",
      "12 day output [[0.72630286]]\n",
      "13 day input [0.71814231 0.72138792 0.71656215 0.72177226 0.71370088 0.7447052\n",
      " 0.75115381 0.7346694  0.72053382 0.71464041 0.71054063 0.7018287\n",
      " 0.70541596 0.70994276 0.71899641 0.72271179 0.72019217 0.73812855\n",
      " 0.72459085 0.72019217 0.73612138 0.78032181 0.77318997 0.77613661\n",
      " 0.77758865 0.7854038  0.77891252 0.79270644 0.79761757 0.80739722\n",
      " 0.80790967 0.80803778 0.81303434 0.81862884 0.81243646 0.79526881\n",
      " 0.80850754 0.80855029 0.80983141 0.81410198 0.81820176 0.82580337\n",
      " 0.82716998 0.83366121 0.82772511 0.83801721 0.82191713 0.88183324\n",
      " 0.90711508 0.91211164 0.90463814 0.9224891  0.91232512 0.89263778\n",
      " 0.88328529 0.88606113 0.8900328  0.90788375 0.91151376 0.89665213\n",
      " 0.92283075 0.93786318 0.9433295  0.96378551 0.970106   0.97377863\n",
      " 0.9921421  0.96903836 0.9817219  0.9982063  1.         0.9746328\n",
      " 0.95456106 0.95511626 0.9536216  0.95810564 0.93047504 0.925991\n",
      " 0.92799817 0.92919392 0.93158543 0.9455929  0.92970637 0.93611223\n",
      " 0.8908869  0.88217489 0.89323572 0.87500966 0.84959221 0.82898557\n",
      " 0.81295025 0.80018538 0.78928936 0.7792452  0.76954651 0.76007074\n",
      " 0.75089347 0.74214464 0.73392963 0.72630286]\n",
      "13 day output [[0.719272]]\n",
      "14 day input [0.72138792 0.71656215 0.72177226 0.71370088 0.7447052  0.75115381\n",
      " 0.7346694  0.72053382 0.71464041 0.71054063 0.7018287  0.70541596\n",
      " 0.70994276 0.71899641 0.72271179 0.72019217 0.73812855 0.72459085\n",
      " 0.72019217 0.73612138 0.78032181 0.77318997 0.77613661 0.77758865\n",
      " 0.7854038  0.77891252 0.79270644 0.79761757 0.80739722 0.80790967\n",
      " 0.80803778 0.81303434 0.81862884 0.81243646 0.79526881 0.80850754\n",
      " 0.80855029 0.80983141 0.81410198 0.81820176 0.82580337 0.82716998\n",
      " 0.83366121 0.82772511 0.83801721 0.82191713 0.88183324 0.90711508\n",
      " 0.91211164 0.90463814 0.9224891  0.91232512 0.89263778 0.88328529\n",
      " 0.88606113 0.8900328  0.90788375 0.91151376 0.89665213 0.92283075\n",
      " 0.93786318 0.9433295  0.96378551 0.970106   0.97377863 0.9921421\n",
      " 0.96903836 0.9817219  0.9982063  1.         0.9746328  0.95456106\n",
      " 0.95511626 0.9536216  0.95810564 0.93047504 0.925991   0.92799817\n",
      " 0.92919392 0.93158543 0.9455929  0.92970637 0.93611223 0.8908869\n",
      " 0.88217489 0.89323572 0.87500966 0.84959221 0.82898557 0.81295025\n",
      " 0.80018538 0.78928936 0.7792452  0.76954651 0.76007074 0.75089347\n",
      " 0.74214464 0.73392963 0.72630286 0.71927202]\n",
      "14 day output [[0.7128149]]\n",
      "15 day input [0.71656215 0.72177226 0.71370088 0.7447052  0.75115381 0.7346694\n",
      " 0.72053382 0.71464041 0.71054063 0.7018287  0.70541596 0.70994276\n",
      " 0.71899641 0.72271179 0.72019217 0.73812855 0.72459085 0.72019217\n",
      " 0.73612138 0.78032181 0.77318997 0.77613661 0.77758865 0.7854038\n",
      " 0.77891252 0.79270644 0.79761757 0.80739722 0.80790967 0.80803778\n",
      " 0.81303434 0.81862884 0.81243646 0.79526881 0.80850754 0.80855029\n",
      " 0.80983141 0.81410198 0.81820176 0.82580337 0.82716998 0.83366121\n",
      " 0.82772511 0.83801721 0.82191713 0.88183324 0.90711508 0.91211164\n",
      " 0.90463814 0.9224891  0.91232512 0.89263778 0.88328529 0.88606113\n",
      " 0.8900328  0.90788375 0.91151376 0.89665213 0.92283075 0.93786318\n",
      " 0.9433295  0.96378551 0.970106   0.97377863 0.9921421  0.96903836\n",
      " 0.9817219  0.9982063  1.         0.9746328  0.95456106 0.95511626\n",
      " 0.9536216  0.95810564 0.93047504 0.925991   0.92799817 0.92919392\n",
      " 0.93158543 0.9455929  0.92970637 0.93611223 0.8908869  0.88217489\n",
      " 0.89323572 0.87500966 0.84959221 0.82898557 0.81295025 0.80018538\n",
      " 0.78928936 0.7792452  0.76954651 0.76007074 0.75089347 0.74214464\n",
      " 0.73392963 0.72630286 0.71927202 0.71281493]\n",
      "15 day output [[0.706895]]\n",
      "16 day input [0.72177226 0.71370088 0.7447052  0.75115381 0.7346694  0.72053382\n",
      " 0.71464041 0.71054063 0.7018287  0.70541596 0.70994276 0.71899641\n",
      " 0.72271179 0.72019217 0.73812855 0.72459085 0.72019217 0.73612138\n",
      " 0.78032181 0.77318997 0.77613661 0.77758865 0.7854038  0.77891252\n",
      " 0.79270644 0.79761757 0.80739722 0.80790967 0.80803778 0.81303434\n",
      " 0.81862884 0.81243646 0.79526881 0.80850754 0.80855029 0.80983141\n",
      " 0.81410198 0.81820176 0.82580337 0.82716998 0.83366121 0.82772511\n",
      " 0.83801721 0.82191713 0.88183324 0.90711508 0.91211164 0.90463814\n",
      " 0.9224891  0.91232512 0.89263778 0.88328529 0.88606113 0.8900328\n",
      " 0.90788375 0.91151376 0.89665213 0.92283075 0.93786318 0.9433295\n",
      " 0.96378551 0.970106   0.97377863 0.9921421  0.96903836 0.9817219\n",
      " 0.9982063  1.         0.9746328  0.95456106 0.95511626 0.9536216\n",
      " 0.95810564 0.93047504 0.925991   0.92799817 0.92919392 0.93158543\n",
      " 0.9455929  0.92970637 0.93611223 0.8908869  0.88217489 0.89323572\n",
      " 0.87500966 0.84959221 0.82898557 0.81295025 0.80018538 0.78928936\n",
      " 0.7792452  0.76954651 0.76007074 0.75089347 0.74214464 0.73392963\n",
      " 0.72630286 0.71927202 0.71281493 0.70689499]\n",
      "16 day output [[0.7014727]]\n",
      "17 day input [0.71370088 0.7447052  0.75115381 0.7346694  0.72053382 0.71464041\n",
      " 0.71054063 0.7018287  0.70541596 0.70994276 0.71899641 0.72271179\n",
      " 0.72019217 0.73812855 0.72459085 0.72019217 0.73612138 0.78032181\n",
      " 0.77318997 0.77613661 0.77758865 0.7854038  0.77891252 0.79270644\n",
      " 0.79761757 0.80739722 0.80790967 0.80803778 0.81303434 0.81862884\n",
      " 0.81243646 0.79526881 0.80850754 0.80855029 0.80983141 0.81410198\n",
      " 0.81820176 0.82580337 0.82716998 0.83366121 0.82772511 0.83801721\n",
      " 0.82191713 0.88183324 0.90711508 0.91211164 0.90463814 0.9224891\n",
      " 0.91232512 0.89263778 0.88328529 0.88606113 0.8900328  0.90788375\n",
      " 0.91151376 0.89665213 0.92283075 0.93786318 0.9433295  0.96378551\n",
      " 0.970106   0.97377863 0.9921421  0.96903836 0.9817219  0.9982063\n",
      " 1.         0.9746328  0.95456106 0.95511626 0.9536216  0.95810564\n",
      " 0.93047504 0.925991   0.92799817 0.92919392 0.93158543 0.9455929\n",
      " 0.92970637 0.93611223 0.8908869  0.88217489 0.89323572 0.87500966\n",
      " 0.84959221 0.82898557 0.81295025 0.80018538 0.78928936 0.7792452\n",
      " 0.76954651 0.76007074 0.75089347 0.74214464 0.73392963 0.72630286\n",
      " 0.71927202 0.71281493 0.70689499 0.7014727 ]\n",
      "17 day output [[0.69651127]]\n",
      "18 day input [0.7447052  0.75115381 0.7346694  0.72053382 0.71464041 0.71054063\n",
      " 0.7018287  0.70541596 0.70994276 0.71899641 0.72271179 0.72019217\n",
      " 0.73812855 0.72459085 0.72019217 0.73612138 0.78032181 0.77318997\n",
      " 0.77613661 0.77758865 0.7854038  0.77891252 0.79270644 0.79761757\n",
      " 0.80739722 0.80790967 0.80803778 0.81303434 0.81862884 0.81243646\n",
      " 0.79526881 0.80850754 0.80855029 0.80983141 0.81410198 0.81820176\n",
      " 0.82580337 0.82716998 0.83366121 0.82772511 0.83801721 0.82191713\n",
      " 0.88183324 0.90711508 0.91211164 0.90463814 0.9224891  0.91232512\n",
      " 0.89263778 0.88328529 0.88606113 0.8900328  0.90788375 0.91151376\n",
      " 0.89665213 0.92283075 0.93786318 0.9433295  0.96378551 0.970106\n",
      " 0.97377863 0.9921421  0.96903836 0.9817219  0.9982063  1.\n",
      " 0.9746328  0.95456106 0.95511626 0.9536216  0.95810564 0.93047504\n",
      " 0.925991   0.92799817 0.92919392 0.93158543 0.9455929  0.92970637\n",
      " 0.93611223 0.8908869  0.88217489 0.89323572 0.87500966 0.84959221\n",
      " 0.82898557 0.81295025 0.80018538 0.78928936 0.7792452  0.76954651\n",
      " 0.76007074 0.75089347 0.74214464 0.73392963 0.72630286 0.71927202\n",
      " 0.71281493 0.70689499 0.7014727  0.69651127]\n",
      "18 day output [[0.69197774]]\n",
      "19 day input [0.75115381 0.7346694  0.72053382 0.71464041 0.71054063 0.7018287\n",
      " 0.70541596 0.70994276 0.71899641 0.72271179 0.72019217 0.73812855\n",
      " 0.72459085 0.72019217 0.73612138 0.78032181 0.77318997 0.77613661\n",
      " 0.77758865 0.7854038  0.77891252 0.79270644 0.79761757 0.80739722\n",
      " 0.80790967 0.80803778 0.81303434 0.81862884 0.81243646 0.79526881\n",
      " 0.80850754 0.80855029 0.80983141 0.81410198 0.81820176 0.82580337\n",
      " 0.82716998 0.83366121 0.82772511 0.83801721 0.82191713 0.88183324\n",
      " 0.90711508 0.91211164 0.90463814 0.9224891  0.91232512 0.89263778\n",
      " 0.88328529 0.88606113 0.8900328  0.90788375 0.91151376 0.89665213\n",
      " 0.92283075 0.93786318 0.9433295  0.96378551 0.970106   0.97377863\n",
      " 0.9921421  0.96903836 0.9817219  0.9982063  1.         0.9746328\n",
      " 0.95456106 0.95511626 0.9536216  0.95810564 0.93047504 0.925991\n",
      " 0.92799817 0.92919392 0.93158543 0.9455929  0.92970637 0.93611223\n",
      " 0.8908869  0.88217489 0.89323572 0.87500966 0.84959221 0.82898557\n",
      " 0.81295025 0.80018538 0.78928936 0.7792452  0.76954651 0.76007074\n",
      " 0.75089347 0.74214464 0.73392963 0.72630286 0.71927202 0.71281493\n",
      " 0.70689499 0.7014727  0.69651127 0.69197774]\n",
      "19 day output [[0.68784314]]\n",
      "20 day input [0.7346694  0.72053382 0.71464041 0.71054063 0.7018287  0.70541596\n",
      " 0.70994276 0.71899641 0.72271179 0.72019217 0.73812855 0.72459085\n",
      " 0.72019217 0.73612138 0.78032181 0.77318997 0.77613661 0.77758865\n",
      " 0.7854038  0.77891252 0.79270644 0.79761757 0.80739722 0.80790967\n",
      " 0.80803778 0.81303434 0.81862884 0.81243646 0.79526881 0.80850754\n",
      " 0.80855029 0.80983141 0.81410198 0.81820176 0.82580337 0.82716998\n",
      " 0.83366121 0.82772511 0.83801721 0.82191713 0.88183324 0.90711508\n",
      " 0.91211164 0.90463814 0.9224891  0.91232512 0.89263778 0.88328529\n",
      " 0.88606113 0.8900328  0.90788375 0.91151376 0.89665213 0.92283075\n",
      " 0.93786318 0.9433295  0.96378551 0.970106   0.97377863 0.9921421\n",
      " 0.96903836 0.9817219  0.9982063  1.         0.9746328  0.95456106\n",
      " 0.95511626 0.9536216  0.95810564 0.93047504 0.925991   0.92799817\n",
      " 0.92919392 0.93158543 0.9455929  0.92970637 0.93611223 0.8908869\n",
      " 0.88217489 0.89323572 0.87500966 0.84959221 0.82898557 0.81295025\n",
      " 0.80018538 0.78928936 0.7792452  0.76954651 0.76007074 0.75089347\n",
      " 0.74214464 0.73392963 0.72630286 0.71927202 0.71281493 0.70689499\n",
      " 0.7014727  0.69651127 0.69197774 0.68784314]\n",
      "20 day output [[0.68408036]]\n",
      "21 day input [0.72053382 0.71464041 0.71054063 0.7018287  0.70541596 0.70994276\n",
      " 0.71899641 0.72271179 0.72019217 0.73812855 0.72459085 0.72019217\n",
      " 0.73612138 0.78032181 0.77318997 0.77613661 0.77758865 0.7854038\n",
      " 0.77891252 0.79270644 0.79761757 0.80739722 0.80790967 0.80803778\n",
      " 0.81303434 0.81862884 0.81243646 0.79526881 0.80850754 0.80855029\n",
      " 0.80983141 0.81410198 0.81820176 0.82580337 0.82716998 0.83366121\n",
      " 0.82772511 0.83801721 0.82191713 0.88183324 0.90711508 0.91211164\n",
      " 0.90463814 0.9224891  0.91232512 0.89263778 0.88328529 0.88606113\n",
      " 0.8900328  0.90788375 0.91151376 0.89665213 0.92283075 0.93786318\n",
      " 0.9433295  0.96378551 0.970106   0.97377863 0.9921421  0.96903836\n",
      " 0.9817219  0.9982063  1.         0.9746328  0.95456106 0.95511626\n",
      " 0.9536216  0.95810564 0.93047504 0.925991   0.92799817 0.92919392\n",
      " 0.93158543 0.9455929  0.92970637 0.93611223 0.8908869  0.88217489\n",
      " 0.89323572 0.87500966 0.84959221 0.82898557 0.81295025 0.80018538\n",
      " 0.78928936 0.7792452  0.76954651 0.76007074 0.75089347 0.74214464\n",
      " 0.73392963 0.72630286 0.71927202 0.71281493 0.70689499 0.7014727\n",
      " 0.69651127 0.69197774 0.68784314 0.68408036]\n",
      "21 day output [[0.6806636]]\n",
      "22 day input [0.71464041 0.71054063 0.7018287  0.70541596 0.70994276 0.71899641\n",
      " 0.72271179 0.72019217 0.73812855 0.72459085 0.72019217 0.73612138\n",
      " 0.78032181 0.77318997 0.77613661 0.77758865 0.7854038  0.77891252\n",
      " 0.79270644 0.79761757 0.80739722 0.80790967 0.80803778 0.81303434\n",
      " 0.81862884 0.81243646 0.79526881 0.80850754 0.80855029 0.80983141\n",
      " 0.81410198 0.81820176 0.82580337 0.82716998 0.83366121 0.82772511\n",
      " 0.83801721 0.82191713 0.88183324 0.90711508 0.91211164 0.90463814\n",
      " 0.9224891  0.91232512 0.89263778 0.88328529 0.88606113 0.8900328\n",
      " 0.90788375 0.91151376 0.89665213 0.92283075 0.93786318 0.9433295\n",
      " 0.96378551 0.970106   0.97377863 0.9921421  0.96903836 0.9817219\n",
      " 0.9982063  1.         0.9746328  0.95456106 0.95511626 0.9536216\n",
      " 0.95810564 0.93047504 0.925991   0.92799817 0.92919392 0.93158543\n",
      " 0.9455929  0.92970637 0.93611223 0.8908869  0.88217489 0.89323572\n",
      " 0.87500966 0.84959221 0.82898557 0.81295025 0.80018538 0.78928936\n",
      " 0.7792452  0.76954651 0.76007074 0.75089347 0.74214464 0.73392963\n",
      " 0.72630286 0.71927202 0.71281493 0.70689499 0.7014727  0.69651127\n",
      " 0.69197774 0.68784314 0.68408036 0.68066359]\n",
      "22 day output [[0.677567]]\n",
      "23 day input [0.71054063 0.7018287  0.70541596 0.70994276 0.71899641 0.72271179\n",
      " 0.72019217 0.73812855 0.72459085 0.72019217 0.73612138 0.78032181\n",
      " 0.77318997 0.77613661 0.77758865 0.7854038  0.77891252 0.79270644\n",
      " 0.79761757 0.80739722 0.80790967 0.80803778 0.81303434 0.81862884\n",
      " 0.81243646 0.79526881 0.80850754 0.80855029 0.80983141 0.81410198\n",
      " 0.81820176 0.82580337 0.82716998 0.83366121 0.82772511 0.83801721\n",
      " 0.82191713 0.88183324 0.90711508 0.91211164 0.90463814 0.9224891\n",
      " 0.91232512 0.89263778 0.88328529 0.88606113 0.8900328  0.90788375\n",
      " 0.91151376 0.89665213 0.92283075 0.93786318 0.9433295  0.96378551\n",
      " 0.970106   0.97377863 0.9921421  0.96903836 0.9817219  0.9982063\n",
      " 1.         0.9746328  0.95456106 0.95511626 0.9536216  0.95810564\n",
      " 0.93047504 0.925991   0.92799817 0.92919392 0.93158543 0.9455929\n",
      " 0.92970637 0.93611223 0.8908869  0.88217489 0.89323572 0.87500966\n",
      " 0.84959221 0.82898557 0.81295025 0.80018538 0.78928936 0.7792452\n",
      " 0.76954651 0.76007074 0.75089347 0.74214464 0.73392963 0.72630286\n",
      " 0.71927202 0.71281493 0.70689499 0.7014727  0.69651127 0.69197774\n",
      " 0.68784314 0.68408036 0.68066359 0.67756701]\n",
      "23 day output [[0.6747651]]\n",
      "24 day input [0.7018287  0.70541596 0.70994276 0.71899641 0.72271179 0.72019217\n",
      " 0.73812855 0.72459085 0.72019217 0.73612138 0.78032181 0.77318997\n",
      " 0.77613661 0.77758865 0.7854038  0.77891252 0.79270644 0.79761757\n",
      " 0.80739722 0.80790967 0.80803778 0.81303434 0.81862884 0.81243646\n",
      " 0.79526881 0.80850754 0.80855029 0.80983141 0.81410198 0.81820176\n",
      " 0.82580337 0.82716998 0.83366121 0.82772511 0.83801721 0.82191713\n",
      " 0.88183324 0.90711508 0.91211164 0.90463814 0.9224891  0.91232512\n",
      " 0.89263778 0.88328529 0.88606113 0.8900328  0.90788375 0.91151376\n",
      " 0.89665213 0.92283075 0.93786318 0.9433295  0.96378551 0.970106\n",
      " 0.97377863 0.9921421  0.96903836 0.9817219  0.9982063  1.\n",
      " 0.9746328  0.95456106 0.95511626 0.9536216  0.95810564 0.93047504\n",
      " 0.925991   0.92799817 0.92919392 0.93158543 0.9455929  0.92970637\n",
      " 0.93611223 0.8908869  0.88217489 0.89323572 0.87500966 0.84959221\n",
      " 0.82898557 0.81295025 0.80018538 0.78928936 0.7792452  0.76954651\n",
      " 0.76007074 0.75089347 0.74214464 0.73392963 0.72630286 0.71927202\n",
      " 0.71281493 0.70689499 0.7014727  0.69651127 0.69197774 0.68784314\n",
      " 0.68408036 0.68066359 0.67756701 0.67476511]\n",
      "24 day output [[0.67223215]]\n",
      "25 day input [0.70541596 0.70994276 0.71899641 0.72271179 0.72019217 0.73812855\n",
      " 0.72459085 0.72019217 0.73612138 0.78032181 0.77318997 0.77613661\n",
      " 0.77758865 0.7854038  0.77891252 0.79270644 0.79761757 0.80739722\n",
      " 0.80790967 0.80803778 0.81303434 0.81862884 0.81243646 0.79526881\n",
      " 0.80850754 0.80855029 0.80983141 0.81410198 0.81820176 0.82580337\n",
      " 0.82716998 0.83366121 0.82772511 0.83801721 0.82191713 0.88183324\n",
      " 0.90711508 0.91211164 0.90463814 0.9224891  0.91232512 0.89263778\n",
      " 0.88328529 0.88606113 0.8900328  0.90788375 0.91151376 0.89665213\n",
      " 0.92283075 0.93786318 0.9433295  0.96378551 0.970106   0.97377863\n",
      " 0.9921421  0.96903836 0.9817219  0.9982063  1.         0.9746328\n",
      " 0.95456106 0.95511626 0.9536216  0.95810564 0.93047504 0.925991\n",
      " 0.92799817 0.92919392 0.93158543 0.9455929  0.92970637 0.93611223\n",
      " 0.8908869  0.88217489 0.89323572 0.87500966 0.84959221 0.82898557\n",
      " 0.81295025 0.80018538 0.78928936 0.7792452  0.76954651 0.76007074\n",
      " 0.75089347 0.74214464 0.73392963 0.72630286 0.71927202 0.71281493\n",
      " 0.70689499 0.7014727  0.69651127 0.69197774 0.68784314 0.68408036\n",
      " 0.68066359 0.67756701 0.67476511 0.67223215]\n",
      "25 day output [[0.6699425]]\n",
      "26 day input [0.70994276 0.71899641 0.72271179 0.72019217 0.73812855 0.72459085\n",
      " 0.72019217 0.73612138 0.78032181 0.77318997 0.77613661 0.77758865\n",
      " 0.7854038  0.77891252 0.79270644 0.79761757 0.80739722 0.80790967\n",
      " 0.80803778 0.81303434 0.81862884 0.81243646 0.79526881 0.80850754\n",
      " 0.80855029 0.80983141 0.81410198 0.81820176 0.82580337 0.82716998\n",
      " 0.83366121 0.82772511 0.83801721 0.82191713 0.88183324 0.90711508\n",
      " 0.91211164 0.90463814 0.9224891  0.91232512 0.89263778 0.88328529\n",
      " 0.88606113 0.8900328  0.90788375 0.91151376 0.89665213 0.92283075\n",
      " 0.93786318 0.9433295  0.96378551 0.970106   0.97377863 0.9921421\n",
      " 0.96903836 0.9817219  0.9982063  1.         0.9746328  0.95456106\n",
      " 0.95511626 0.9536216  0.95810564 0.93047504 0.925991   0.92799817\n",
      " 0.92919392 0.93158543 0.9455929  0.92970637 0.93611223 0.8908869\n",
      " 0.88217489 0.89323572 0.87500966 0.84959221 0.82898557 0.81295025\n",
      " 0.80018538 0.78928936 0.7792452  0.76954651 0.76007074 0.75089347\n",
      " 0.74214464 0.73392963 0.72630286 0.71927202 0.71281493 0.70689499\n",
      " 0.7014727  0.69651127 0.69197774 0.68784314 0.68408036 0.68066359\n",
      " 0.67756701 0.67476511 0.67223215 0.6699425 ]\n",
      "26 day output [[0.6678716]]\n",
      "27 day input [0.71899641 0.72271179 0.72019217 0.73812855 0.72459085 0.72019217\n",
      " 0.73612138 0.78032181 0.77318997 0.77613661 0.77758865 0.7854038\n",
      " 0.77891252 0.79270644 0.79761757 0.80739722 0.80790967 0.80803778\n",
      " 0.81303434 0.81862884 0.81243646 0.79526881 0.80850754 0.80855029\n",
      " 0.80983141 0.81410198 0.81820176 0.82580337 0.82716998 0.83366121\n",
      " 0.82772511 0.83801721 0.82191713 0.88183324 0.90711508 0.91211164\n",
      " 0.90463814 0.9224891  0.91232512 0.89263778 0.88328529 0.88606113\n",
      " 0.8900328  0.90788375 0.91151376 0.89665213 0.92283075 0.93786318\n",
      " 0.9433295  0.96378551 0.970106   0.97377863 0.9921421  0.96903836\n",
      " 0.9817219  0.9982063  1.         0.9746328  0.95456106 0.95511626\n",
      " 0.9536216  0.95810564 0.93047504 0.925991   0.92799817 0.92919392\n",
      " 0.93158543 0.9455929  0.92970637 0.93611223 0.8908869  0.88217489\n",
      " 0.89323572 0.87500966 0.84959221 0.82898557 0.81295025 0.80018538\n",
      " 0.78928936 0.7792452  0.76954651 0.76007074 0.75089347 0.74214464\n",
      " 0.73392963 0.72630286 0.71927202 0.71281493 0.70689499 0.7014727\n",
      " 0.69651127 0.69197774 0.68784314 0.68408036 0.68066359 0.67756701\n",
      " 0.67476511 0.67223215 0.6699425  0.66787159]\n",
      "27 day output [[0.6659953]]\n",
      "28 day input [0.72271179 0.72019217 0.73812855 0.72459085 0.72019217 0.73612138\n",
      " 0.78032181 0.77318997 0.77613661 0.77758865 0.7854038  0.77891252\n",
      " 0.79270644 0.79761757 0.80739722 0.80790967 0.80803778 0.81303434\n",
      " 0.81862884 0.81243646 0.79526881 0.80850754 0.80855029 0.80983141\n",
      " 0.81410198 0.81820176 0.82580337 0.82716998 0.83366121 0.82772511\n",
      " 0.83801721 0.82191713 0.88183324 0.90711508 0.91211164 0.90463814\n",
      " 0.9224891  0.91232512 0.89263778 0.88328529 0.88606113 0.8900328\n",
      " 0.90788375 0.91151376 0.89665213 0.92283075 0.93786318 0.9433295\n",
      " 0.96378551 0.970106   0.97377863 0.9921421  0.96903836 0.9817219\n",
      " 0.9982063  1.         0.9746328  0.95456106 0.95511626 0.9536216\n",
      " 0.95810564 0.93047504 0.925991   0.92799817 0.92919392 0.93158543\n",
      " 0.9455929  0.92970637 0.93611223 0.8908869  0.88217489 0.89323572\n",
      " 0.87500966 0.84959221 0.82898557 0.81295025 0.80018538 0.78928936\n",
      " 0.7792452  0.76954651 0.76007074 0.75089347 0.74214464 0.73392963\n",
      " 0.72630286 0.71927202 0.71281493 0.70689499 0.7014727  0.69651127\n",
      " 0.69197774 0.68784314 0.68408036 0.68066359 0.67756701 0.67476511\n",
      " 0.67223215 0.6699425  0.66787159 0.6659953 ]\n",
      "28 day output [[0.6642907]]\n",
      "29 day input [0.72019217 0.73812855 0.72459085 0.72019217 0.73612138 0.78032181\n",
      " 0.77318997 0.77613661 0.77758865 0.7854038  0.77891252 0.79270644\n",
      " 0.79761757 0.80739722 0.80790967 0.80803778 0.81303434 0.81862884\n",
      " 0.81243646 0.79526881 0.80850754 0.80855029 0.80983141 0.81410198\n",
      " 0.81820176 0.82580337 0.82716998 0.83366121 0.82772511 0.83801721\n",
      " 0.82191713 0.88183324 0.90711508 0.91211164 0.90463814 0.9224891\n",
      " 0.91232512 0.89263778 0.88328529 0.88606113 0.8900328  0.90788375\n",
      " 0.91151376 0.89665213 0.92283075 0.93786318 0.9433295  0.96378551\n",
      " 0.970106   0.97377863 0.9921421  0.96903836 0.9817219  0.9982063\n",
      " 1.         0.9746328  0.95456106 0.95511626 0.9536216  0.95810564\n",
      " 0.93047504 0.925991   0.92799817 0.92919392 0.93158543 0.9455929\n",
      " 0.92970637 0.93611223 0.8908869  0.88217489 0.89323572 0.87500966\n",
      " 0.84959221 0.82898557 0.81295025 0.80018538 0.78928936 0.7792452\n",
      " 0.76954651 0.76007074 0.75089347 0.74214464 0.73392963 0.72630286\n",
      " 0.71927202 0.71281493 0.70689499 0.7014727  0.69651127 0.69197774\n",
      " 0.68784314 0.68408036 0.68066359 0.67756701 0.67476511 0.67223215\n",
      " 0.6699425  0.66787159 0.6659953  0.66429073]\n",
      "29 day output [[0.6627362]]\n",
      "[[0.8750096559524536], [0.8495922088623047], [0.8289855718612671], [0.8129502534866333], [0.8001853823661804], [0.7892893552780151], [0.7792451977729797], [0.7695465087890625], [0.7600707411766052], [0.7508934736251831], [0.7421446442604065], [0.7339296340942383], [0.7263028621673584], [0.7192720174789429], [0.7128149271011353], [0.7068949937820435], [0.7014726996421814], [0.6965112686157227], [0.6919777393341064], [0.6878431439399719], [0.6840803623199463], [0.6806635856628418], [0.6775670051574707], [0.6747651100158691], [0.6722321510314941], [0.6699424982070923], [0.6678715944290161], [0.6659952998161316], [0.664290726184845], [0.662736177444458]]\n"
     ]
    }
   ],
   "source": [
    "# Prediction for next 30 days\n",
    "from numpy import array\n",
    "lst_output=[]\n",
    "n_steps=time_step\n",
    "i=0\n",
    "while(i<30):\n",
    "    # If input data contains more number of elements than time step\n",
    "    if(len(temp_input) > time_step):\n",
    "        # Shifting and reshaping input\n",
    "        x_input=np.array(temp_input[1:])\n",
    "        print(\"{} day input {}\".format(i,x_input))\n",
    "        x_input=x_input.reshape(1,-1)\n",
    "        x_input = x_input.reshape((1, n_steps, 1))\n",
    "\n",
    "        # Make Prediction\n",
    "        yhat = model.predict(x_input, verbose=0)\n",
    "        print(\"{} day output {}\".format(i,yhat))\n",
    "        temp_input.extend(yhat[0].tolist())\n",
    "        temp_input=temp_input[1:]\n",
    "        lst_output.extend(yhat.tolist())\n",
    "        i=i+1\n",
    "        \n",
    "    else:\n",
    "        x_input = x_input.reshape((1, n_steps,1)) # Reshape data\n",
    "\n",
    "        yhat = model.predict(x_input, verbose=0) # Make Prediction\n",
    "        print(\"{} day output {}\".format(i,yhat))\n",
    "\n",
    "        # Add prediction to previous input and final output\n",
    "        temp_input.extend(yhat[0].tolist())\n",
    "        lst_output.extend(yhat.tolist())\n",
    "        i=i+1\n",
    "\n",
    "print(lst_output)"
   ]
  },
  {
   "cell_type": "code",
   "execution_count": 35,
   "metadata": {},
   "outputs": [],
   "source": [
    "day_new  = np.arange(1,101)\n",
    "day_pred = np.arange(101,131)"
   ]
  },
  {
   "cell_type": "code",
   "execution_count": 36,
   "metadata": {},
   "outputs": [
    {
     "data": {
      "text/plain": [
       "5004"
      ]
     },
     "execution_count": 36,
     "metadata": {},
     "output_type": "execute_result"
    }
   ],
   "source": [
    "len(df1)"
   ]
  },
  {
   "cell_type": "code",
   "execution_count": 37,
   "metadata": {},
   "outputs": [
    {
     "data": {
      "text/plain": [
       "[<matplotlib.lines.Line2D at 0x7fd1d4250b20>]"
      ]
     },
     "execution_count": 37,
     "metadata": {},
     "output_type": "execute_result"
    },
    {
     "data": {
      "image/png": "[encoded data removed]",
      "text/plain": [
       "<Figure size 640x480 with 1 Axes>"
      ]
     },
     "metadata": {},
     "output_type": "display_data"
    }
   ],
   "source": [
    "plt.plot(day_new,scaler.inverse_transform(df1[len(df1)-time_step:]))\n",
    "plt.plot(day_pred,scaler.inverse_transform(lst_output))"
   ]
  },
  {
   "cell_type": "code",
   "execution_count": 38,
   "metadata": {},
   "outputs": [
    {
     "data": {
      "text/plain": [
       "[<matplotlib.lines.Line2D at 0x7fd1d40f6650>]"
      ]
     },
     "execution_count": 38,
     "metadata": {},
     "output_type": "execute_result"
    },
    {
     "data": {
      "image/png": "[encoded data removed]",
      "text/plain": [
       "<Figure size 640x480 with 1 Axes>"
      ]
     },
     "metadata": {},
     "output_type": "display_data"
    }
   ],
   "source": [
    "df3=df1.tolist()\n",
    "df3.extend(lst_output)\n",
    "plt.plot(df3[len(df1)-300:])"
   ]
  },
  {
   "cell_type": "code",
   "execution_count": 39,
   "metadata": {},
   "outputs": [],
   "source": [
    "df3=scaler.inverse_transform(df3).tolist()"
   ]
  },
  {
   "cell_type": "code",
   "execution_count": 40,
   "metadata": {},
   "outputs": [
    {
     "data": {
      "text/plain": [
       "[<matplotlib.lines.Line2D at 0x7fd1d407d720>]"
      ]
     },
     "execution_count": 40,
     "metadata": {},
     "output_type": "execute_result"
    },
    {
     "data": {
      "image/png": "[encoded data removed]",
      "text/plain": [
       "<Figure size 640x480 with 1 Axes>"
      ]
     },
     "metadata": {},
     "output_type": "display_data"
    }
   ],
   "source": [
    "plt.plot(df3)"
   ]
  }
 ],
 "metadata": {
  "kernelspec": {
   "display_name": "Python 3 (ipykernel)",
   "language": "python",
   "name": "python3"
  },
  "language_info": {
   "codemirror_mode": {
    "name": "ipython",
    "version": 3
   },
   "file_extension": ".py",
   "mimetype": "text/x-python",
   "name": "python",
   "nbconvert_exporter": "python",
   "pygments_lexer": "ipython3",
   "version": "3.10.12"
  }
 },
 "nbformat": 4,
 "nbformat_minor": 4
}
